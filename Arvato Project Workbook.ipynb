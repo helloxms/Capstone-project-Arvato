{
 "cells": [
  {
   "cell_type": "markdown",
   "metadata": {},
   "source": [
    "# Capstone Project: Create a Customer Segmentation Report for Arvato Financial Services\n",
    "\n",
    "In this project, you will analyze demographics data for customers of a mail-order sales company in Germany, comparing it against demographics information for the general population. You'll use unsupervised learning techniques to perform customer segmentation, identifying the parts of the population that best describe the core customer base of the company. Then, you'll apply what you've learned on a third dataset with demographics information for targets of a marketing campaign for the company, and use a model to predict which individuals are most likely to convert into becoming customers for the company. The data that you will use has been provided by our partners at Bertelsmann Arvato Analytics, and represents a real-life data science task.\n",
    "\n",
    "If you completed the first term of this program, you will be familiar with the first part of this project, from the unsupervised learning project. The versions of those two datasets used in this project will include many more features and has not been pre-cleaned. You are also free to choose whatever approach you'd like to analyzing the data rather than follow pre-determined steps. In your work on this project, make sure that you carefully document your steps and decisions, since your main deliverable for this project will be a blog post reporting your findings."
   ]
  },
  {
   "cell_type": "code",
   "execution_count": 2,
   "metadata": {},
   "outputs": [],
   "source": [
    "# import libraries here; add more as necessary\n",
    "import numpy as np\n",
    "import pandas as pd\n",
    "import matplotlib.pyplot as plt\n",
    "import seaborn as sns\n",
    "\n",
    "from time import time\n",
    "\n",
    "from sklearn.preprocessing import Imputer, StandardScaler\n",
    "from sklearn.decomposition import PCA\n",
    "from sklearn.cluster import KMeans\n",
    "from sklearn.model_selection import GridSearchCV\n",
    "from sklearn.linear_model import LogisticRegression\n",
    "from sklearn.ensemble import RandomForestClassifier\n",
    "from sklearn.ensemble import AdaBoostClassifier\n",
    "from sklearn.ensemble import GradientBoostingClassifier\n",
    "from sklearn.ensemble import BaggingClassifier\n",
    "from sklearn.pipeline import Pipeline\n",
    "# magic word for producing visualizations in notebook\n",
    "%matplotlib inline"
   ]
  },
  {
   "cell_type": "markdown",
   "metadata": {},
   "source": [
    "## Part 0: Get to Know the Data\n",
    "\n",
    "There are four data files associated with this project:\n",
    "\n",
    "- `Udacity_AZDIAS_052018.csv`: Demographics data for the general population of Germany; 891 211 persons (rows) x 366 features (columns).\n",
    "- `Udacity_CUSTOMERS_052018.csv`: Demographics data for customers of a mail-order company; 191 652 persons (rows) x 369 features (columns).\n",
    "- `Udacity_MAILOUT_052018_TRAIN.csv`: Demographics data for individuals who were targets of a marketing campaign; 42 982 persons (rows) x 367 (columns).\n",
    "- `Udacity_MAILOUT_052018_TEST.csv`: Demographics data for individuals who were targets of a marketing campaign; 42 833 persons (rows) x 366 (columns).\n",
    "\n",
    "Each row of the demographics files represents a single person, but also includes information outside of individuals, including information about their household, building, and neighborhood. Use the information from the first two files to figure out how customers (\"CUSTOMERS\") are similar to or differ from the general population at large (\"AZDIAS\"), then use your analysis to make predictions on the other two files (\"MAILOUT\"), predicting which recipients are most likely to become a customer for the mail-order company.\n",
    "\n",
    "The \"CUSTOMERS\" file contains three extra columns ('CUSTOMER_GROUP', 'ONLINE_PURCHASE', and 'PRODUCT_GROUP'), which provide broad information about the customers depicted in the file. The original \"MAILOUT\" file included one additional column, \"RESPONSE\", which indicated whether or not each recipient became a customer of the company. For the \"TRAIN\" subset, this column has been retained, but in the \"TEST\" subset it has been removed; it is against that withheld column that your final predictions will be assessed in the Kaggle competition.\n",
    "\n",
    "Otherwise, all of the remaining columns are the same between the three data files. For more information about the columns depicted in the files, you can refer to two Excel spreadsheets provided in the workspace. [One of them](./DIAS Information Levels - Attributes 2017.xlsx) is a top-level list of attributes and descriptions, organized by informational category. [The other](./DIAS Attributes - Values 2017.xlsx) is a detailed mapping of data values for each feature in alphabetical order.\n",
    "\n",
    "In the below cell, we've provided some initial code to load in the first two datasets. Note for all of the `.csv` data files in this project that they're semicolon (`;`) delimited, so an additional argument in the [`read_csv()`](https://pandas.pydata.org/pandas-docs/stable/generated/pandas.read_csv.html) call has been included to read in the data properly. Also, considering the size of the datasets, it may take some time for them to load completely.\n",
    "\n",
    "You'll notice when the data is loaded in that a warning message will immediately pop up. Before you really start digging into the modeling and analysis, you're going to need to perform some cleaning. Take some time to browse the structure of the data and look over the informational spreadsheets to understand the data values. Make some decisions on which features to keep, which features to drop, and if any revisions need to be made on data formats. It'll be a good idea to create a function with pre-processing steps, since you'll need to clean all of the datasets before you work with them."
   ]
  },
  {
   "cell_type": "markdown",
   "metadata": {},
   "source": [
    "### Load data"
   ]
  },
  {
   "cell_type": "code",
   "execution_count": 3,
   "metadata": {},
   "outputs": [
    {
     "name": "stderr",
     "output_type": "stream",
     "text": [
      "D:\\ProgramData\\Anaconda3\\lib\\site-packages\\IPython\\core\\interactiveshell.py:3058: DtypeWarning: Columns (18,19) have mixed types. Specify dtype option on import or set low_memory=False.\n",
      "  interactivity=interactivity, compiler=compiler, result=result)\n"
     ]
    }
   ],
   "source": [
    "# load in the data\n",
    "azdias = pd.read_csv('./Udacity_AZDIAS_052018.csv', sep=';')\n",
    "# azdias = pd.read_csv('../../data/Term2/capstone/arvato_data/Udacity_AZDIAS_052018.csv', sep=';')\n",
    "# customers = pd.read_csv('../../data/Term2/capstone/arvato_data/Udacity_CUSTOMERS_052018.csv', sep=';')"
   ]
  },
  {
   "cell_type": "code",
   "execution_count": 4,
   "metadata": {},
   "outputs": [
    {
     "data": {
      "text/plain": [
       "(891221, 366)"
      ]
     },
     "execution_count": 4,
     "metadata": {},
     "output_type": "execute_result"
    }
   ],
   "source": [
    "azdias.shape"
   ]
  },
  {
   "cell_type": "markdown",
   "metadata": {},
   "source": [
    "### Step 1: Drop not described features\n",
    "\n",
    "- We get all attributes from \"DIAS Attributes - Values 2017.xlsx\" and \"DIAS Information Levels - Attributes 2017.xlsx\",  \n",
    "Then parse the all the features not described in files.\n"
   ]
  },
  {
   "cell_type": "code",
   "execution_count": 5,
   "metadata": {},
   "outputs": [],
   "source": [
    "DIAS_Attributes_list = pd.read_csv('./DIAS_Attributes_list.csv')"
   ]
  },
  {
   "cell_type": "code",
   "execution_count": 6,
   "metadata": {},
   "outputs": [],
   "source": [
    "DIAS_Information_Levels_list = pd.read_csv('./DIAS_Information_Levels_list.csv')"
   ]
  },
  {
   "cell_type": "code",
   "execution_count": 7,
   "metadata": {},
   "outputs": [],
   "source": [
    "features = azdias.columns\n",
    "not_described_feature=[]\n",
    "for i in range(0, azdias.shape[1]):\n",
    "    feature = features[i]\n",
    "    if feature.find(\"D19\") >= 0:\n",
    "        continue\n",
    "    if feature.find(\"CJT_\") >= 0:\n",
    "        continue\n",
    "    if feature.find(\"KBA\") >= 0:\n",
    "        continue\n",
    "    if feature not in DIAS_Attributes_list.values and feature not in DIAS_Information_Levels_list.values:\n",
    "        not_described_feature.append(feature)\n"
   ]
  },
  {
   "cell_type": "code",
   "execution_count": 8,
   "metadata": {},
   "outputs": [
    {
     "name": "stdout",
     "output_type": "stream",
     "text": [
      "['LNR', 'AKT_DAT_KL', 'ALTER_KIND1', 'ALTER_KIND2', 'ALTER_KIND3', 'ALTER_KIND4', 'ALTERSKATEGORIE_FEIN', 'ANZ_KINDER', 'ANZ_STATISTISCHE_HAUSHALTE', 'CAMEO_INTL_2015', 'DSL_FLAG', 'EINGEFUEGT_AM', 'EINGEZOGENAM_HH_JAHR', 'EXTSEL992', 'FIRMENDICHTE', 'GEMEINDETYP', 'HH_DELTA_FLAG', 'KK_KUNDENTYP', 'KOMBIALTER', 'KONSUMZELLE', 'MOBI_RASTER', 'RT_KEIN_ANREIZ', 'RT_SCHNAEPPCHEN', 'RT_UEBERGROESSE', 'SOHO_KZ', 'STRUKTURTYP', 'UMFELD_ALT', 'UMFELD_JUNG', 'UNGLEICHENN_FLAG', 'VERDICHTUNGSRAUM', 'VHA', 'VHN', 'VK_DHT4A', 'VK_DISTANZ', 'VK_ZG11']\n"
     ]
    }
   ],
   "source": [
    "print(not_described_feature)"
   ]
  },
  {
   "cell_type": "markdown",
   "metadata": {},
   "source": [
    "- For example,'ANZ_STATISTISCHE_HAUSHALTE' is similar to the 'ANZ_HAUSHALTE_AKTIV',which means 'number of households in the building',  \n",
    "by boxplot and hist figure, we keep this feature.  \n",
    "- At last we decide drop these features:  \n",
    "'VHA', 'VK_ZG11', 'VERDICHTUNGSRAUM',  'CJT_KATALOGNUTZER', 'ALTER_KIND1', 'KOMBIALTER', 'EXTSEL992', 'LNR',  'UMFELD_JUNG', 'VHN',     'AKT_DAT_KL', 'VK_DISTANZ', 'RT_SCHNAEPPCHEN', 'ALTER_KIND3',  'RT_KEIN_ANREIZ', 'RT_UEBERGROESSE',  'UMFELD_ALT', 'STRUKTURTYP',       'D19_KONSUMTYP_MAX', 'ALTER_KIND4', 'ALTER_KIND2', 'EINGEFUEGT_AM',  'D19_LETZTER_KAUF_BRANCHE', 'VK_DHT4A', 'FIRMENDICHTE', 'GEMEINDETYP'    "
   ]
  },
  {
   "cell_type": "code",
   "execution_count": 9,
   "metadata": {},
   "outputs": [],
   "source": [
    "not_described_feature = ['VHA', 'VK_ZG11', 'VERDICHTUNGSRAUM',  'CJT_KATALOGNUTZER', 'ALTER_KIND1', 'KOMBIALTER', \n",
    "                       'EXTSEL992', 'LNR',  'UMFELD_JUNG', 'VHN', 'AKT_DAT_KL', 'VK_DISTANZ', 'RT_SCHNAEPPCHEN',\n",
    "                       'ALTER_KIND3',  'RT_KEIN_ANREIZ', 'RT_UEBERGROESSE',  'UMFELD_ALT', 'STRUKTURTYP', \n",
    "                       'D19_KONSUMTYP_MAX', 'ALTER_KIND4', 'ALTER_KIND2', 'EINGEFUEGT_AM',  'D19_LETZTER_KAUF_BRANCHE',\n",
    "                       'VK_DHT4A', 'FIRMENDICHTE', 'GEMEINDETYP']"
   ]
  },
  {
   "cell_type": "code",
   "execution_count": 10,
   "metadata": {},
   "outputs": [
    {
     "name": "stdout",
     "output_type": "stream",
     "text": [
      "count    798073.000000\n",
      "mean          7.599356\n",
      "std          14.332201\n",
      "min           0.000000\n",
      "25%           1.000000\n",
      "50%           3.000000\n",
      "75%           9.000000\n",
      "max         449.000000\n",
      "Name: ANZ_STATISTISCHE_HAUSHALTE, dtype: float64\n"
     ]
    }
   ],
   "source": [
    "b = azdias['ANZ_STATISTISCHE_HAUSHALTE']\n",
    "print(b.describe())"
   ]
  },
  {
   "cell_type": "code",
   "execution_count": 11,
   "metadata": {},
   "outputs": [
    {
     "data": {
      "text/plain": [
       "{'whiskers': [<matplotlib.lines.Line2D at 0x1c73f8ae088>,\n",
       "  <matplotlib.lines.Line2D at 0x1c73f8ee6c8>],\n",
       " 'caps': [<matplotlib.lines.Line2D at 0x1c73f985dc8>,\n",
       "  <matplotlib.lines.Line2D at 0x1c73f9f82c8>],\n",
       " 'boxes': [<matplotlib.lines.Line2D at 0x1c73f5ddec8>],\n",
       " 'medians': [<matplotlib.lines.Line2D at 0x1c73fa5ac08>],\n",
       " 'fliers': [<matplotlib.lines.Line2D at 0x1c73faebf48>],\n",
       " 'means': [<matplotlib.lines.Line2D at 0x1c73fabd5c8>]}"
      ]
     },
     "execution_count": 11,
     "metadata": {},
     "output_type": "execute_result"
    },
    {
     "data": {
      "image/png": "[encoded data removed]",
      "text/plain": [
       "<Figure size 432x288 with 1 Axes>"
      ]
     },
     "metadata": {
      "needs_background": "light"
     },
     "output_type": "display_data"
    }
   ],
   "source": [
    "a = []\n",
    "mean = b.mean()\n",
    "for i in range(0,len(b)):\n",
    "    if pd.notnull(b[i]) :\n",
    "        tmp = b[i]\n",
    "        if b[i] and b[i] > 30.0:\n",
    "            tmp = 30.0\n",
    "        a.append(tmp)\n",
    "plt.boxplot(a, vert=False,showmeans=True)"
   ]
  },
  {
   "cell_type": "code",
   "execution_count": 12,
   "metadata": {},
   "outputs": [
    {
     "name": "stdout",
     "output_type": "stream",
     "text": [
      "798073\n"
     ]
    },
    {
     "data": {
      "text/plain": [
       "(array([340647., 146475., 107871.,  72061.,  39952.,  22389.,  13525.,\n",
       "          9287.,   6911.,  38955.]),\n",
       " array([ 0.,  3.,  6.,  9., 12., 15., 18., 21., 24., 27., 30.]),\n",
       " <a list of 10 Patch objects>)"
      ]
     },
     "execution_count": 12,
     "metadata": {},
     "output_type": "execute_result"
    },
    {
     "data": {
      "image/png": "[encoded data removed]",
      "text/plain": [
       "<Figure size 432x288 with 1 Axes>"
      ]
     },
     "metadata": {
      "needs_background": "light"
     },
     "output_type": "display_data"
    }
   ],
   "source": [
    "print(len(a))\n",
    "plt.hist(a)"
   ]
  },
  {
   "cell_type": "code",
   "execution_count": 14,
   "metadata": {},
   "outputs": [],
   "source": [
    "# drop features\n",
    "azdias.drop(labels=not_described_feature, axis=1, inplace=True)"
   ]
  },
  {
   "cell_type": "code",
   "execution_count": 15,
   "metadata": {},
   "outputs": [
    {
     "data": {
      "text/plain": [
       "(891221, 340)"
      ]
     },
     "execution_count": 15,
     "metadata": {},
     "output_type": "execute_result"
    }
   ],
   "source": [
    "azdias.shape"
   ]
  },
  {
   "cell_type": "code",
   "execution_count": 16,
   "metadata": {},
   "outputs": [
    {
     "data": {
      "text/html": [
       "<div>\n",
       "<style scoped>\n",
       "    .dataframe tbody tr th:only-of-type {\n",
       "        vertical-align: middle;\n",
       "    }\n",
       "\n",
       "    .dataframe tbody tr th {\n",
       "        vertical-align: top;\n",
       "    }\n",
       "\n",
       "    .dataframe thead th {\n",
       "        text-align: right;\n",
       "    }\n",
       "</style>\n",
       "<table border=\"1\" class=\"dataframe\">\n",
       "  <thead>\n",
       "    <tr style=\"text-align: right;\">\n",
       "      <th></th>\n",
       "      <th>AGER_TYP</th>\n",
       "      <th>ALTER_HH</th>\n",
       "      <th>ALTERSKATEGORIE_FEIN</th>\n",
       "      <th>ANZ_HAUSHALTE_AKTIV</th>\n",
       "      <th>ANZ_HH_TITEL</th>\n",
       "      <th>ANZ_KINDER</th>\n",
       "      <th>ANZ_PERSONEN</th>\n",
       "      <th>ANZ_STATISTISCHE_HAUSHALTE</th>\n",
       "      <th>ANZ_TITEL</th>\n",
       "      <th>ARBEIT</th>\n",
       "      <th>...</th>\n",
       "      <th>SOHO_KZ</th>\n",
       "      <th>TITEL_KZ</th>\n",
       "      <th>UNGLEICHENN_FLAG</th>\n",
       "      <th>VERS_TYP</th>\n",
       "      <th>W_KEIT_KIND_HH</th>\n",
       "      <th>WOHNDAUER_2008</th>\n",
       "      <th>WOHNLAGE</th>\n",
       "      <th>ZABEOTYP</th>\n",
       "      <th>ANREDE_KZ</th>\n",
       "      <th>ALTERSKATEGORIE_GROB</th>\n",
       "    </tr>\n",
       "  </thead>\n",
       "  <tbody>\n",
       "    <tr>\n",
       "      <td>0</td>\n",
       "      <td>-1</td>\n",
       "      <td>NaN</td>\n",
       "      <td>NaN</td>\n",
       "      <td>NaN</td>\n",
       "      <td>NaN</td>\n",
       "      <td>NaN</td>\n",
       "      <td>NaN</td>\n",
       "      <td>NaN</td>\n",
       "      <td>NaN</td>\n",
       "      <td>NaN</td>\n",
       "      <td>...</td>\n",
       "      <td>NaN</td>\n",
       "      <td>NaN</td>\n",
       "      <td>NaN</td>\n",
       "      <td>-1</td>\n",
       "      <td>NaN</td>\n",
       "      <td>NaN</td>\n",
       "      <td>NaN</td>\n",
       "      <td>3</td>\n",
       "      <td>1</td>\n",
       "      <td>2</td>\n",
       "    </tr>\n",
       "    <tr>\n",
       "      <td>1</td>\n",
       "      <td>-1</td>\n",
       "      <td>0.0</td>\n",
       "      <td>21.0</td>\n",
       "      <td>11.0</td>\n",
       "      <td>0.0</td>\n",
       "      <td>0.0</td>\n",
       "      <td>2.0</td>\n",
       "      <td>12.0</td>\n",
       "      <td>0.0</td>\n",
       "      <td>3.0</td>\n",
       "      <td>...</td>\n",
       "      <td>1.0</td>\n",
       "      <td>0.0</td>\n",
       "      <td>1.0</td>\n",
       "      <td>2</td>\n",
       "      <td>3.0</td>\n",
       "      <td>9.0</td>\n",
       "      <td>4.0</td>\n",
       "      <td>5</td>\n",
       "      <td>2</td>\n",
       "      <td>1</td>\n",
       "    </tr>\n",
       "    <tr>\n",
       "      <td>2</td>\n",
       "      <td>-1</td>\n",
       "      <td>17.0</td>\n",
       "      <td>17.0</td>\n",
       "      <td>10.0</td>\n",
       "      <td>0.0</td>\n",
       "      <td>0.0</td>\n",
       "      <td>1.0</td>\n",
       "      <td>7.0</td>\n",
       "      <td>0.0</td>\n",
       "      <td>3.0</td>\n",
       "      <td>...</td>\n",
       "      <td>0.0</td>\n",
       "      <td>0.0</td>\n",
       "      <td>0.0</td>\n",
       "      <td>1</td>\n",
       "      <td>3.0</td>\n",
       "      <td>9.0</td>\n",
       "      <td>2.0</td>\n",
       "      <td>5</td>\n",
       "      <td>2</td>\n",
       "      <td>3</td>\n",
       "    </tr>\n",
       "    <tr>\n",
       "      <td>3</td>\n",
       "      <td>2</td>\n",
       "      <td>13.0</td>\n",
       "      <td>13.0</td>\n",
       "      <td>1.0</td>\n",
       "      <td>0.0</td>\n",
       "      <td>0.0</td>\n",
       "      <td>0.0</td>\n",
       "      <td>2.0</td>\n",
       "      <td>0.0</td>\n",
       "      <td>2.0</td>\n",
       "      <td>...</td>\n",
       "      <td>0.0</td>\n",
       "      <td>0.0</td>\n",
       "      <td>0.0</td>\n",
       "      <td>1</td>\n",
       "      <td>NaN</td>\n",
       "      <td>9.0</td>\n",
       "      <td>7.0</td>\n",
       "      <td>3</td>\n",
       "      <td>2</td>\n",
       "      <td>4</td>\n",
       "    </tr>\n",
       "    <tr>\n",
       "      <td>4</td>\n",
       "      <td>-1</td>\n",
       "      <td>20.0</td>\n",
       "      <td>14.0</td>\n",
       "      <td>3.0</td>\n",
       "      <td>0.0</td>\n",
       "      <td>0.0</td>\n",
       "      <td>4.0</td>\n",
       "      <td>3.0</td>\n",
       "      <td>0.0</td>\n",
       "      <td>4.0</td>\n",
       "      <td>...</td>\n",
       "      <td>0.0</td>\n",
       "      <td>0.0</td>\n",
       "      <td>0.0</td>\n",
       "      <td>2</td>\n",
       "      <td>2.0</td>\n",
       "      <td>9.0</td>\n",
       "      <td>3.0</td>\n",
       "      <td>4</td>\n",
       "      <td>1</td>\n",
       "      <td>3</td>\n",
       "    </tr>\n",
       "    <tr>\n",
       "      <td>...</td>\n",
       "      <td>...</td>\n",
       "      <td>...</td>\n",
       "      <td>...</td>\n",
       "      <td>...</td>\n",
       "      <td>...</td>\n",
       "      <td>...</td>\n",
       "      <td>...</td>\n",
       "      <td>...</td>\n",
       "      <td>...</td>\n",
       "      <td>...</td>\n",
       "      <td>...</td>\n",
       "      <td>...</td>\n",
       "      <td>...</td>\n",
       "      <td>...</td>\n",
       "      <td>...</td>\n",
       "      <td>...</td>\n",
       "      <td>...</td>\n",
       "      <td>...</td>\n",
       "      <td>...</td>\n",
       "      <td>...</td>\n",
       "      <td>...</td>\n",
       "    </tr>\n",
       "    <tr>\n",
       "      <td>891216</td>\n",
       "      <td>-1</td>\n",
       "      <td>17.0</td>\n",
       "      <td>17.0</td>\n",
       "      <td>15.0</td>\n",
       "      <td>0.0</td>\n",
       "      <td>0.0</td>\n",
       "      <td>1.0</td>\n",
       "      <td>11.0</td>\n",
       "      <td>0.0</td>\n",
       "      <td>NaN</td>\n",
       "      <td>...</td>\n",
       "      <td>0.0</td>\n",
       "      <td>0.0</td>\n",
       "      <td>0.0</td>\n",
       "      <td>1</td>\n",
       "      <td>3.0</td>\n",
       "      <td>4.0</td>\n",
       "      <td>3.0</td>\n",
       "      <td>4</td>\n",
       "      <td>2</td>\n",
       "      <td>3</td>\n",
       "    </tr>\n",
       "    <tr>\n",
       "      <td>891217</td>\n",
       "      <td>-1</td>\n",
       "      <td>16.0</td>\n",
       "      <td>16.0</td>\n",
       "      <td>11.0</td>\n",
       "      <td>0.0</td>\n",
       "      <td>0.0</td>\n",
       "      <td>1.0</td>\n",
       "      <td>11.0</td>\n",
       "      <td>0.0</td>\n",
       "      <td>4.0</td>\n",
       "      <td>...</td>\n",
       "      <td>0.0</td>\n",
       "      <td>0.0</td>\n",
       "      <td>0.0</td>\n",
       "      <td>-1</td>\n",
       "      <td>6.0</td>\n",
       "      <td>9.0</td>\n",
       "      <td>5.0</td>\n",
       "      <td>6</td>\n",
       "      <td>1</td>\n",
       "      <td>2</td>\n",
       "    </tr>\n",
       "    <tr>\n",
       "      <td>891218</td>\n",
       "      <td>-1</td>\n",
       "      <td>17.0</td>\n",
       "      <td>17.0</td>\n",
       "      <td>3.0</td>\n",
       "      <td>0.0</td>\n",
       "      <td>0.0</td>\n",
       "      <td>0.0</td>\n",
       "      <td>3.0</td>\n",
       "      <td>0.0</td>\n",
       "      <td>2.0</td>\n",
       "      <td>...</td>\n",
       "      <td>0.0</td>\n",
       "      <td>0.0</td>\n",
       "      <td>0.0</td>\n",
       "      <td>1</td>\n",
       "      <td>NaN</td>\n",
       "      <td>5.0</td>\n",
       "      <td>7.0</td>\n",
       "      <td>4</td>\n",
       "      <td>2</td>\n",
       "      <td>2</td>\n",
       "    </tr>\n",
       "    <tr>\n",
       "      <td>891219</td>\n",
       "      <td>-1</td>\n",
       "      <td>0.0</td>\n",
       "      <td>20.0</td>\n",
       "      <td>7.0</td>\n",
       "      <td>0.0</td>\n",
       "      <td>1.0</td>\n",
       "      <td>1.0</td>\n",
       "      <td>5.0</td>\n",
       "      <td>0.0</td>\n",
       "      <td>4.0</td>\n",
       "      <td>...</td>\n",
       "      <td>0.0</td>\n",
       "      <td>0.0</td>\n",
       "      <td>0.0</td>\n",
       "      <td>2</td>\n",
       "      <td>1.0</td>\n",
       "      <td>9.0</td>\n",
       "      <td>5.0</td>\n",
       "      <td>5</td>\n",
       "      <td>1</td>\n",
       "      <td>1</td>\n",
       "    </tr>\n",
       "    <tr>\n",
       "      <td>891220</td>\n",
       "      <td>-1</td>\n",
       "      <td>0.0</td>\n",
       "      <td>NaN</td>\n",
       "      <td>10.0</td>\n",
       "      <td>0.0</td>\n",
       "      <td>0.0</td>\n",
       "      <td>1.0</td>\n",
       "      <td>5.0</td>\n",
       "      <td>0.0</td>\n",
       "      <td>3.0</td>\n",
       "      <td>...</td>\n",
       "      <td>0.0</td>\n",
       "      <td>0.0</td>\n",
       "      <td>0.0</td>\n",
       "      <td>1</td>\n",
       "      <td>6.0</td>\n",
       "      <td>3.0</td>\n",
       "      <td>4.0</td>\n",
       "      <td>3</td>\n",
       "      <td>1</td>\n",
       "      <td>4</td>\n",
       "    </tr>\n",
       "  </tbody>\n",
       "</table>\n",
       "<p>891221 rows × 336 columns</p>\n",
       "</div>"
      ],
      "text/plain": [
       "        AGER_TYP  ALTER_HH  ALTERSKATEGORIE_FEIN  ANZ_HAUSHALTE_AKTIV  \\\n",
       "0             -1       NaN                   NaN                  NaN   \n",
       "1             -1       0.0                  21.0                 11.0   \n",
       "2             -1      17.0                  17.0                 10.0   \n",
       "3              2      13.0                  13.0                  1.0   \n",
       "4             -1      20.0                  14.0                  3.0   \n",
       "...          ...       ...                   ...                  ...   \n",
       "891216        -1      17.0                  17.0                 15.0   \n",
       "891217        -1      16.0                  16.0                 11.0   \n",
       "891218        -1      17.0                  17.0                  3.0   \n",
       "891219        -1       0.0                  20.0                  7.0   \n",
       "891220        -1       0.0                   NaN                 10.0   \n",
       "\n",
       "        ANZ_HH_TITEL  ANZ_KINDER  ANZ_PERSONEN  ANZ_STATISTISCHE_HAUSHALTE  \\\n",
       "0                NaN         NaN           NaN                         NaN   \n",
       "1                0.0         0.0           2.0                        12.0   \n",
       "2                0.0         0.0           1.0                         7.0   \n",
       "3                0.0         0.0           0.0                         2.0   \n",
       "4                0.0         0.0           4.0                         3.0   \n",
       "...              ...         ...           ...                         ...   \n",
       "891216           0.0         0.0           1.0                        11.0   \n",
       "891217           0.0         0.0           1.0                        11.0   \n",
       "891218           0.0         0.0           0.0                         3.0   \n",
       "891219           0.0         1.0           1.0                         5.0   \n",
       "891220           0.0         0.0           1.0                         5.0   \n",
       "\n",
       "        ANZ_TITEL  ARBEIT  ...  SOHO_KZ  TITEL_KZ  UNGLEICHENN_FLAG  VERS_TYP  \\\n",
       "0             NaN     NaN  ...      NaN       NaN               NaN        -1   \n",
       "1             0.0     3.0  ...      1.0       0.0               1.0         2   \n",
       "2             0.0     3.0  ...      0.0       0.0               0.0         1   \n",
       "3             0.0     2.0  ...      0.0       0.0               0.0         1   \n",
       "4             0.0     4.0  ...      0.0       0.0               0.0         2   \n",
       "...           ...     ...  ...      ...       ...               ...       ...   \n",
       "891216        0.0     NaN  ...      0.0       0.0               0.0         1   \n",
       "891217        0.0     4.0  ...      0.0       0.0               0.0        -1   \n",
       "891218        0.0     2.0  ...      0.0       0.0               0.0         1   \n",
       "891219        0.0     4.0  ...      0.0       0.0               0.0         2   \n",
       "891220        0.0     3.0  ...      0.0       0.0               0.0         1   \n",
       "\n",
       "        W_KEIT_KIND_HH  WOHNDAUER_2008  WOHNLAGE  ZABEOTYP  ANREDE_KZ  \\\n",
       "0                  NaN             NaN       NaN         3          1   \n",
       "1                  3.0             9.0       4.0         5          2   \n",
       "2                  3.0             9.0       2.0         5          2   \n",
       "3                  NaN             9.0       7.0         3          2   \n",
       "4                  2.0             9.0       3.0         4          1   \n",
       "...                ...             ...       ...       ...        ...   \n",
       "891216             3.0             4.0       3.0         4          2   \n",
       "891217             6.0             9.0       5.0         6          1   \n",
       "891218             NaN             5.0       7.0         4          2   \n",
       "891219             1.0             9.0       5.0         5          1   \n",
       "891220             6.0             3.0       4.0         3          1   \n",
       "\n",
       "        ALTERSKATEGORIE_GROB  \n",
       "0                          2  \n",
       "1                          1  \n",
       "2                          3  \n",
       "3                          4  \n",
       "4                          3  \n",
       "...                      ...  \n",
       "891216                     3  \n",
       "891217                     2  \n",
       "891218                     2  \n",
       "891219                     1  \n",
       "891220                     4  \n",
       "\n",
       "[891221 rows x 336 columns]"
      ]
     },
     "execution_count": 16,
     "metadata": {},
     "output_type": "execute_result"
    }
   ],
   "source": [
    "obj_df = azdias.select_dtypes(include=['int64', 'float64']).copy()\n",
    "obj_df"
   ]
  },
  {
   "cell_type": "code",
   "execution_count": 17,
   "metadata": {},
   "outputs": [
    {
     "data": {
      "text/html": [
       "<div>\n",
       "<style scoped>\n",
       "    .dataframe tbody tr th:only-of-type {\n",
       "        vertical-align: middle;\n",
       "    }\n",
       "\n",
       "    .dataframe tbody tr th {\n",
       "        vertical-align: top;\n",
       "    }\n",
       "\n",
       "    .dataframe thead th {\n",
       "        text-align: right;\n",
       "    }\n",
       "</style>\n",
       "<table border=\"1\" class=\"dataframe\">\n",
       "  <thead>\n",
       "    <tr style=\"text-align: right;\">\n",
       "      <th></th>\n",
       "      <th>CAMEO_DEU_2015</th>\n",
       "      <th>CAMEO_DEUG_2015</th>\n",
       "      <th>CAMEO_INTL_2015</th>\n",
       "      <th>OST_WEST_KZ</th>\n",
       "    </tr>\n",
       "  </thead>\n",
       "  <tbody>\n",
       "    <tr>\n",
       "      <td>0</td>\n",
       "      <td>NaN</td>\n",
       "      <td>NaN</td>\n",
       "      <td>NaN</td>\n",
       "      <td>NaN</td>\n",
       "    </tr>\n",
       "    <tr>\n",
       "      <td>1</td>\n",
       "      <td>8A</td>\n",
       "      <td>8</td>\n",
       "      <td>51</td>\n",
       "      <td>W</td>\n",
       "    </tr>\n",
       "    <tr>\n",
       "      <td>2</td>\n",
       "      <td>4C</td>\n",
       "      <td>4</td>\n",
       "      <td>24</td>\n",
       "      <td>W</td>\n",
       "    </tr>\n",
       "    <tr>\n",
       "      <td>3</td>\n",
       "      <td>2A</td>\n",
       "      <td>2</td>\n",
       "      <td>12</td>\n",
       "      <td>W</td>\n",
       "    </tr>\n",
       "    <tr>\n",
       "      <td>4</td>\n",
       "      <td>6B</td>\n",
       "      <td>6</td>\n",
       "      <td>43</td>\n",
       "      <td>W</td>\n",
       "    </tr>\n",
       "    <tr>\n",
       "      <td>...</td>\n",
       "      <td>...</td>\n",
       "      <td>...</td>\n",
       "      <td>...</td>\n",
       "      <td>...</td>\n",
       "    </tr>\n",
       "    <tr>\n",
       "      <td>891216</td>\n",
       "      <td>7A</td>\n",
       "      <td>7</td>\n",
       "      <td>41</td>\n",
       "      <td>W</td>\n",
       "    </tr>\n",
       "    <tr>\n",
       "      <td>891217</td>\n",
       "      <td>9D</td>\n",
       "      <td>9</td>\n",
       "      <td>51</td>\n",
       "      <td>W</td>\n",
       "    </tr>\n",
       "    <tr>\n",
       "      <td>891218</td>\n",
       "      <td>4C</td>\n",
       "      <td>4</td>\n",
       "      <td>24</td>\n",
       "      <td>W</td>\n",
       "    </tr>\n",
       "    <tr>\n",
       "      <td>891219</td>\n",
       "      <td>9D</td>\n",
       "      <td>9</td>\n",
       "      <td>51</td>\n",
       "      <td>W</td>\n",
       "    </tr>\n",
       "    <tr>\n",
       "      <td>891220</td>\n",
       "      <td>6B</td>\n",
       "      <td>6</td>\n",
       "      <td>43</td>\n",
       "      <td>W</td>\n",
       "    </tr>\n",
       "  </tbody>\n",
       "</table>\n",
       "<p>891221 rows × 4 columns</p>\n",
       "</div>"
      ],
      "text/plain": [
       "       CAMEO_DEU_2015 CAMEO_DEUG_2015 CAMEO_INTL_2015 OST_WEST_KZ\n",
       "0                 NaN             NaN             NaN         NaN\n",
       "1                  8A               8              51           W\n",
       "2                  4C               4              24           W\n",
       "3                  2A               2              12           W\n",
       "4                  6B               6              43           W\n",
       "...               ...             ...             ...         ...\n",
       "891216             7A               7              41           W\n",
       "891217             9D               9              51           W\n",
       "891218             4C               4              24           W\n",
       "891219             9D               9              51           W\n",
       "891220             6B               6              43           W\n",
       "\n",
       "[891221 rows x 4 columns]"
      ]
     },
     "execution_count": 17,
     "metadata": {},
     "output_type": "execute_result"
    }
   ],
   "source": [
    "\n",
    "obj_df = azdias.select_dtypes(include=['object']).copy()\n",
    "obj_df"
   ]
  },
  {
   "cell_type": "markdown",
   "metadata": {},
   "source": [
    "### Step 2: Deal known values\n",
    "- Transfer all unknown value in \"DIAS_Feature_Summary.csv\" into Nan  \n",
    "We create a feature summary file, including features's data type, unknown value range.\n",
    "\n"
   ]
  },
  {
   "cell_type": "code",
   "execution_count": 18,
   "metadata": {},
   "outputs": [
    {
     "data": {
      "text/plain": [
       "(334, 3)"
      ]
     },
     "execution_count": 18,
     "metadata": {},
     "output_type": "execute_result"
    }
   ],
   "source": [
    "# Load the unknown value in AZDIAS_Feature_Summary.csv\n",
    "feat_info = pd.read_csv('DIAS_Feature_Summary.csv', sep=';')\n",
    "feat_info.shape"
   ]
  },
  {
   "cell_type": "code",
   "execution_count": 19,
   "metadata": {},
   "outputs": [
    {
     "data": {
      "text/html": [
       "<div>\n",
       "<style scoped>\n",
       "    .dataframe tbody tr th:only-of-type {\n",
       "        vertical-align: middle;\n",
       "    }\n",
       "\n",
       "    .dataframe tbody tr th {\n",
       "        vertical-align: top;\n",
       "    }\n",
       "\n",
       "    .dataframe thead th {\n",
       "        text-align: right;\n",
       "    }\n",
       "</style>\n",
       "<table border=\"1\" class=\"dataframe\">\n",
       "  <thead>\n",
       "    <tr style=\"text-align: right;\">\n",
       "      <th></th>\n",
       "      <th>attribute</th>\n",
       "      <th>dtype</th>\n",
       "      <th>value</th>\n",
       "    </tr>\n",
       "  </thead>\n",
       "  <tbody>\n",
       "    <tr>\n",
       "      <td>0</td>\n",
       "      <td>AGER_TYP</td>\n",
       "      <td>categorical</td>\n",
       "      <td>[-1,0]</td>\n",
       "    </tr>\n",
       "    <tr>\n",
       "      <td>1</td>\n",
       "      <td>ALTERSKATEGORIE_FEIN</td>\n",
       "      <td>ordinal</td>\n",
       "      <td>[-1,0,9]</td>\n",
       "    </tr>\n",
       "    <tr>\n",
       "      <td>2</td>\n",
       "      <td>ALTERSKATEGORIE_GROB</td>\n",
       "      <td>ordinal</td>\n",
       "      <td>[-1,0,9]</td>\n",
       "    </tr>\n",
       "    <tr>\n",
       "      <td>3</td>\n",
       "      <td>ALTER_HH</td>\n",
       "      <td>ordinal</td>\n",
       "      <td>[0]</td>\n",
       "    </tr>\n",
       "    <tr>\n",
       "      <td>4</td>\n",
       "      <td>ANREDE_KZ</td>\n",
       "      <td>categorical</td>\n",
       "      <td>[-1,0]</td>\n",
       "    </tr>\n",
       "    <tr>\n",
       "      <td>...</td>\n",
       "      <td>...</td>\n",
       "      <td>...</td>\n",
       "      <td>...</td>\n",
       "    </tr>\n",
       "    <tr>\n",
       "      <td>329</td>\n",
       "      <td>VERS_TYP</td>\n",
       "      <td>categorical</td>\n",
       "      <td>[-1]</td>\n",
       "    </tr>\n",
       "    <tr>\n",
       "      <td>330</td>\n",
       "      <td>WOHNDAUER_2008</td>\n",
       "      <td>ordinal</td>\n",
       "      <td>[-1,0]</td>\n",
       "    </tr>\n",
       "    <tr>\n",
       "      <td>331</td>\n",
       "      <td>WOHNLAGE</td>\n",
       "      <td>ordinal</td>\n",
       "      <td>[-1,0]</td>\n",
       "    </tr>\n",
       "    <tr>\n",
       "      <td>332</td>\n",
       "      <td>W_KEIT_KIND_HH</td>\n",
       "      <td>ordinal</td>\n",
       "      <td>[-1,0]</td>\n",
       "    </tr>\n",
       "    <tr>\n",
       "      <td>333</td>\n",
       "      <td>ZABEOTYP</td>\n",
       "      <td>categorical</td>\n",
       "      <td>[-1,9]</td>\n",
       "    </tr>\n",
       "  </tbody>\n",
       "</table>\n",
       "<p>334 rows × 3 columns</p>\n",
       "</div>"
      ],
      "text/plain": [
       "                attribute        dtype     value\n",
       "0                AGER_TYP  categorical    [-1,0]\n",
       "1    ALTERSKATEGORIE_FEIN      ordinal  [-1,0,9]\n",
       "2    ALTERSKATEGORIE_GROB      ordinal  [-1,0,9]\n",
       "3                ALTER_HH      ordinal       [0]\n",
       "4               ANREDE_KZ  categorical    [-1,0]\n",
       "..                    ...          ...       ...\n",
       "329              VERS_TYP  categorical      [-1]\n",
       "330        WOHNDAUER_2008      ordinal    [-1,0]\n",
       "331              WOHNLAGE      ordinal    [-1,0]\n",
       "332        W_KEIT_KIND_HH      ordinal    [-1,0]\n",
       "333              ZABEOTYP  categorical    [-1,9]\n",
       "\n",
       "[334 rows x 3 columns]"
      ]
     },
     "execution_count": 19,
     "metadata": {},
     "output_type": "execute_result"
    }
   ],
   "source": [
    "feat_info"
   ]
  },
  {
   "cell_type": "code",
   "execution_count": 21,
   "metadata": {},
   "outputs": [],
   "source": [
    "for col in range( feat_info.shape[0]):\n",
    "    col_name = feat_info['attribute'][col]\n",
    "    nalist = feat_info.iloc[col,2]\n",
    "    nalist = nalist.replace('[','')\n",
    "    nalist = nalist.replace(']','')\n",
    "    nalist = nalist.split(',')\n",
    "    if nalist == ['']:\n",
    "        continue\n",
    "    else:\n",
    "        for nacode in nalist:\n",
    "            # print( col_name)\n",
    "            # print( feat_info['dtype'][col])\n",
    "            # print( nalist)\n",
    "            if feat_info['dtype'][col] != 'object':\n",
    "                nacode = int(nacode)\n",
    "                azdias.loc[azdias[col_name] == nacode, col_name] = np.nan"
   ]
  },
  {
   "cell_type": "markdown",
   "metadata": {},
   "source": [
    "\n"
   ]
  },
  {
   "cell_type": "markdown",
   "metadata": {},
   "source": [
    "### Step 3: Deal Nan values\n",
    "1. drop columns with count of null values bigger than 20%  \n",
    "the following features are dropped：  \n",
    "'AGER_TYP' 'ALTERSKATEGORIE_FEIN' 'D19_BANKEN_ONLINE_QUOTE_12' 'D19_GESAMT_ONLINE_QUOTE_12'   \n",
    "'D19_KONSUMTYP' 'D19_LOTTO' 'D19_SOZIALES' 'D19_TELKO_ONLINE_QUOTE_12' 'D19_VERSAND_ONLINE_QUOTE_12'    \n",
    "'D19_VERSI_ONLINE_QUOTE_12' 'KK_KUNDENTYP'  \n",
    "2. drop rows with count of null values bigger than 30%"
   ]
  },
  {
   "cell_type": "code",
   "execution_count": 22,
   "metadata": {},
   "outputs": [
    {
     "data": {
      "text/plain": [
       "(array([ 38.,   0.,   0.,  10., 146.,  13.,  58.,   2.,   0.,   0.,   0.,\n",
       "          1.,   0.,   1.,   1.,   1.,   0.,   1.,   0.,   1.,   1.,   1.,\n",
       "          3.,   0.,   0.,   2.,   3.,   1.,   3.,   4.,   3.,   1.,   5.,\n",
       "          4.,   6.,   3.,   7.,   5.,   8.,   7.]),\n",
       " array([0.        , 0.0249779 , 0.04995579, 0.07493369, 0.09991158,\n",
       "        0.12488948, 0.14986737, 0.17484527, 0.19982316, 0.22480106,\n",
       "        0.24977895, 0.27475685, 0.29973475, 0.32471264, 0.34969054,\n",
       "        0.37466843, 0.39964633, 0.42462422, 0.44960212, 0.47458001,\n",
       "        0.49955791, 0.52453581, 0.5495137 , 0.5744916 , 0.59946949,\n",
       "        0.62444739, 0.64942528, 0.67440318, 0.69938107, 0.72435897,\n",
       "        0.74933686, 0.77431476, 0.79929266, 0.82427055, 0.84924845,\n",
       "        0.87422634, 0.89920424, 0.92418213, 0.94916003, 0.97413792,\n",
       "        0.99911582]),\n",
       " <a list of 40 Patch objects>)"
      ]
     },
     "execution_count": 22,
     "metadata": {},
     "output_type": "execute_result"
    },
    {
     "data": {
      "image/png": "[encoded data removed]",
      "text/plain": [
       "<Figure size 432x288 with 1 Axes>"
      ]
     },
     "metadata": {
      "needs_background": "light"
     },
     "output_type": "display_data"
    }
   ],
   "source": [
    "# calculate the percentage of missing values per feature\n",
    "missing_per_column = azdias.isnull().mean()\n",
    "plt.hist(missing_per_column, bins=40)"
   ]
  },
  {
   "cell_type": "code",
   "execution_count": 23,
   "metadata": {},
   "outputs": [],
   "source": [
    "# features to be dropped have more than 20% missing values \n",
    "drop_missing_per_column = missing_per_column[missing_per_column > 0.2].index\n",
    "\n",
    "# drop features\n",
    "azdias.drop(labels=drop_missing_per_column, axis=1, inplace=True)"
   ]
  },
  {
   "cell_type": "code",
   "execution_count": 24,
   "metadata": {},
   "outputs": [
    {
     "data": {
      "text/plain": [
       "Index(['AGER_TYP', 'ALTER_HH', 'ALTERSKATEGORIE_FEIN', 'D19_BANKEN_ANZ_12',\n",
       "       'D19_BANKEN_ANZ_24', 'D19_BANKEN_DATUM', 'D19_BANKEN_DIREKT',\n",
       "       'D19_BANKEN_GROSS', 'D19_BANKEN_LOKAL', 'D19_BANKEN_OFFLINE_DATUM',\n",
       "       'D19_BANKEN_ONLINE_DATUM', 'D19_BANKEN_ONLINE_QUOTE_12',\n",
       "       'D19_BANKEN_REST', 'D19_BEKLEIDUNG_GEH', 'D19_BEKLEIDUNG_REST',\n",
       "       'D19_BILDUNG', 'D19_BIO_OEKO', 'D19_BUCH_CD', 'D19_DIGIT_SERV',\n",
       "       'D19_DROGERIEARTIKEL', 'D19_ENERGIE', 'D19_FREIZEIT', 'D19_GARTEN',\n",
       "       'D19_GESAMT_ANZ_12', 'D19_GESAMT_ANZ_24', 'D19_GESAMT_DATUM',\n",
       "       'D19_GESAMT_OFFLINE_DATUM', 'D19_GESAMT_ONLINE_DATUM',\n",
       "       'D19_GESAMT_ONLINE_QUOTE_12', 'D19_HANDWERK', 'D19_HAUS_DEKO',\n",
       "       'D19_KINDERARTIKEL', 'D19_KONSUMTYP', 'D19_KOSMETIK',\n",
       "       'D19_LEBENSMITTEL', 'D19_LOTTO', 'D19_NAHRUNGSERGAENZUNG',\n",
       "       'D19_RATGEBER', 'D19_REISEN', 'D19_SAMMELARTIKEL', 'D19_SCHUHE',\n",
       "       'D19_SONSTIGE', 'D19_SOZIALES', 'D19_TECHNIK', 'D19_TELKO_ANZ_12',\n",
       "       'D19_TELKO_ANZ_24', 'D19_TELKO_DATUM', 'D19_TELKO_MOBILE',\n",
       "       'D19_TELKO_OFFLINE_DATUM', 'D19_TELKO_ONLINE_DATUM',\n",
       "       'D19_TELKO_ONLINE_QUOTE_12', 'D19_TELKO_REST', 'D19_TIERARTIKEL',\n",
       "       'D19_VERSAND_ANZ_12', 'D19_VERSAND_ANZ_24', 'D19_VERSAND_DATUM',\n",
       "       'D19_VERSAND_OFFLINE_DATUM', 'D19_VERSAND_ONLINE_DATUM',\n",
       "       'D19_VERSAND_ONLINE_QUOTE_12', 'D19_VERSAND_REST', 'D19_VERSI_ANZ_12',\n",
       "       'D19_VERSI_ANZ_24', 'D19_VERSI_DATUM', 'D19_VERSI_OFFLINE_DATUM',\n",
       "       'D19_VERSI_ONLINE_DATUM', 'D19_VERSI_ONLINE_QUOTE_12',\n",
       "       'D19_VERSICHERUNGEN', 'D19_VOLLSORTIMENT', 'D19_WEIN_FEINKOST',\n",
       "       'GEBURTSJAHR', 'KBA05_BAUMAX', 'KK_KUNDENTYP', 'TITEL_KZ'],\n",
       "      dtype='object')"
      ]
     },
     "execution_count": 24,
     "metadata": {},
     "output_type": "execute_result"
    }
   ],
   "source": [
    "# print what features have been dropped\n",
    "drop_missing_per_column"
   ]
  },
  {
   "cell_type": "code",
   "execution_count": 25,
   "metadata": {},
   "outputs": [
    {
     "data": {
      "text/plain": [
       "(array([6.55032e+05, 3.19680e+04, 3.40110e+04, 1.08680e+04, 7.63000e+02,\n",
       "        2.36000e+02, 4.04100e+03, 2.33000e+02, 1.34000e+02, 1.00000e+00,\n",
       "        0.00000e+00, 1.00000e+00, 0.00000e+00, 0.00000e+00, 0.00000e+00,\n",
       "        0.00000e+00, 0.00000e+00, 0.00000e+00, 0.00000e+00, 0.00000e+00,\n",
       "        0.00000e+00, 5.96000e+02, 1.05850e+04, 1.11600e+03, 1.16280e+04,\n",
       "        1.42940e+04, 7.43000e+02, 5.86500e+03, 2.46300e+03, 2.97000e+02,\n",
       "        3.36000e+02, 1.30000e+02, 1.40000e+01, 4.30000e+01, 2.10000e+01,\n",
       "        1.00000e+00, 1.00000e+00, 0.00000e+00, 0.00000e+00, 0.00000e+00,\n",
       "        0.00000e+00, 0.00000e+00, 0.00000e+00, 0.00000e+00, 4.84000e+02,\n",
       "        1.17000e+02, 1.90000e+01, 4.11300e+03, 5.50000e+02, 2.73000e+02,\n",
       "        2.09000e+02, 3.20000e+01, 9.00000e+00, 1.20000e+01, 4.00000e+00,\n",
       "        1.00000e+00, 0.00000e+00, 0.00000e+00, 0.00000e+00, 0.00000e+00,\n",
       "        0.00000e+00, 0.00000e+00, 0.00000e+00, 0.00000e+00, 0.00000e+00,\n",
       "        0.00000e+00, 5.00000e+00, 1.70000e+01, 5.00000e+00, 5.17000e+02,\n",
       "        2.15000e+02, 1.56800e+03, 1.53900e+03, 1.78700e+03, 8.87000e+02,\n",
       "        1.27000e+02, 1.01000e+02, 9.00000e+00, 2.30000e+01, 1.60000e+01,\n",
       "        1.00000e+01, 1.39560e+04, 4.04600e+03, 1.03300e+03, 5.00000e+02,\n",
       "        1.70000e+01, 2.73480e+04, 5.94000e+02, 4.56540e+04, 3.00000e+00]),\n",
       " array([0.        , 0.00969621, 0.01939243, 0.02908864, 0.03878485,\n",
       "        0.04848107, 0.05817728, 0.06787349, 0.0775697 , 0.08726592,\n",
       "        0.09696213, 0.10665834, 0.11635456, 0.12605077, 0.13574698,\n",
       "        0.1454432 , 0.15513941, 0.16483562, 0.17453184, 0.18422805,\n",
       "        0.19392426, 0.20362047, 0.21331669, 0.2230129 , 0.23270911,\n",
       "        0.24240533, 0.25210154, 0.26179775, 0.27149397, 0.28119018,\n",
       "        0.29088639, 0.30058261, 0.31027882, 0.31997503, 0.32967124,\n",
       "        0.33936746, 0.34906367, 0.35875988, 0.3684561 , 0.37815231,\n",
       "        0.38784852, 0.39754474, 0.40724095, 0.41693716, 0.42663337,\n",
       "        0.43632959, 0.4460258 , 0.45572201, 0.46541823, 0.47511444,\n",
       "        0.48481065, 0.49450687, 0.50420308, 0.51389929, 0.52359551,\n",
       "        0.53329172, 0.54298793, 0.55268414, 0.56238036, 0.57207657,\n",
       "        0.58177278, 0.591469  , 0.60116521, 0.61086142, 0.62055764,\n",
       "        0.63025385, 0.63995006, 0.64964628, 0.65934249, 0.6690387 ,\n",
       "        0.67873491, 0.68843113, 0.69812734, 0.70782355, 0.71751977,\n",
       "        0.72721598, 0.73691219, 0.74660841, 0.75630462, 0.76600083,\n",
       "        0.77569705, 0.78539326, 0.79508947, 0.80478568, 0.8144819 ,\n",
       "        0.82417811, 0.83387432, 0.84357054, 0.85326675, 0.86296296,\n",
       "        0.87265918]),\n",
       " <a list of 90 Patch objects>)"
      ]
     },
     "execution_count": 25,
     "metadata": {},
     "output_type": "execute_result"
    },
    {
     "data": {
      "image/png": "[encoded data removed]",
      "text/plain": [
       "<Figure size 432x288 with 1 Axes>"
      ]
     },
     "metadata": {
      "needs_background": "light"
     },
     "output_type": "display_data"
    }
   ],
   "source": [
    "# calculate the percentage of missing values per individual\n",
    "missing_per_row = azdias.isnull().sum(axis=1)\n",
    "\n",
    "plt.hist(missing_per_row / azdias.shape[1], bins=90)"
   ]
  },
  {
   "cell_type": "code",
   "execution_count": 26,
   "metadata": {},
   "outputs": [
    {
     "data": {
      "text/plain": [
       "(785211, 267)"
      ]
     },
     "execution_count": 26,
     "metadata": {},
     "output_type": "execute_result"
    }
   ],
   "source": [
    "azdias = azdias[missing_per_row / azdias.shape[1] <= 0.3]\n",
    "azdias.shape"
   ]
  },
  {
   "cell_type": "markdown",
   "metadata": {},
   "source": [
    "### Step 4: Deal with Categorical values\n",
    "\n",
    "- For binary (two-level) categoricals that take numeric values, you can keep them without needing to do anything.\n",
    "- There is one binary variable that takes on non-numeric values. For this one, you need to re-encode the values as numbers or create a dummy variable.\n",
    "- For multi-level categoricals (three or more values), you can choose to encode the values using multiple dummy variables (e.g. via [OneHotEncoder](http://scikit-learn.org/stable/modules/generated/sklearn.preprocessing.OneHotEncoder.html)), or (to keep things straightforward) just drop them from the analysis. As always, document your choices in the Discussion section.\n",
    "- We drop some object type columns ,such as 'CAMEO_DEU_2015','CAMEO_DEUG_2015', Re-encode the 'OST_WEST_KZ' column.  \n",
    "- We drop some columns those varibale levels are more than 10."
   ]
  },
  {
   "cell_type": "code",
   "execution_count": 27,
   "metadata": {},
   "outputs": [],
   "source": [
    "# obj_df = azdias.select_dtypes(include=['object']).copy()\n",
    "# obj_df"
   ]
  },
  {
   "cell_type": "code",
   "execution_count": 28,
   "metadata": {},
   "outputs": [
    {
     "data": {
      "text/html": [
       "<div>\n",
       "<style scoped>\n",
       "    .dataframe tbody tr th:only-of-type {\n",
       "        vertical-align: middle;\n",
       "    }\n",
       "\n",
       "    .dataframe tbody tr th {\n",
       "        vertical-align: top;\n",
       "    }\n",
       "\n",
       "    .dataframe thead th {\n",
       "        text-align: right;\n",
       "    }\n",
       "</style>\n",
       "<table border=\"1\" class=\"dataframe\">\n",
       "  <thead>\n",
       "    <tr style=\"text-align: right;\">\n",
       "      <th></th>\n",
       "      <th>dtype</th>\n",
       "      <th>attribute</th>\n",
       "    </tr>\n",
       "  </thead>\n",
       "  <tbody>\n",
       "    <tr>\n",
       "      <td>0</td>\n",
       "      <td>categorical</td>\n",
       "      <td>26</td>\n",
       "    </tr>\n",
       "    <tr>\n",
       "      <td>1</td>\n",
       "      <td>mixed</td>\n",
       "      <td>4</td>\n",
       "    </tr>\n",
       "    <tr>\n",
       "      <td>2</td>\n",
       "      <td>numeric</td>\n",
       "      <td>10</td>\n",
       "    </tr>\n",
       "    <tr>\n",
       "      <td>3</td>\n",
       "      <td>ordinal</td>\n",
       "      <td>294</td>\n",
       "    </tr>\n",
       "  </tbody>\n",
       "</table>\n",
       "</div>"
      ],
      "text/plain": [
       "         dtype  attribute\n",
       "0  categorical         26\n",
       "1        mixed          4\n",
       "2      numeric         10\n",
       "3      ordinal        294"
      ]
     },
     "execution_count": 28,
     "metadata": {},
     "output_type": "execute_result"
    }
   ],
   "source": [
    "# How many features are there of each data type?\n",
    "feat_info = pd.read_csv('DIAS_Feature_Summary.csv', sep=';')\n",
    "features = feat_info.groupby(['dtype'], as_index=False)[['attribute']].count()\n",
    "features"
   ]
  },
  {
   "cell_type": "code",
   "execution_count": 29,
   "metadata": {},
   "outputs": [
    {
     "name": "stdout",
     "output_type": "stream",
     "text": [
      "               index  nUnique\n",
      "2        OST_WEST_KZ        2\n",
      "3   GREEN_AVANTGARDE        2\n",
      "5        KONSUMZELLE        2\n",
      "6            SOHO_KZ        2\n",
      "9          ANREDE_KZ        2\n",
      "11          DSL_FLAG        2\n",
      "13     HH_DELTA_FLAG        2\n",
      "16  UNGLEICHENN_FLAG        2\n",
      "19          VERS_TYP        2\n",
      "               index  nUnique\n",
      "0      CJT_GESAMTTYP        6\n",
      "1          FINANZTYP        6\n",
      "4    LP_FAMILIE_FEIN       11\n",
      "7        SHOPPER_TYP        4\n",
      "8    GFK_URLAUBERTYP       12\n",
      "10    LP_STATUS_FEIN       10\n",
      "12   CAMEO_DEUG_2015       19\n",
      "14  NATIONALITAET_KZ        3\n",
      "15          ZABEOTYP        6\n",
      "17   LP_FAMILIE_GROB        5\n",
      "18    LP_STATUS_GROB        5\n",
      "20    CAMEO_DEU_2015       45\n",
      "21       GEBAEUDETYP        7\n"
     ]
    }
   ],
   "source": [
    "# Assess categorical variables: which are binary, which are multi-level, and\n",
    "# which one needs to be re-encoded?\n",
    "featDF = feat_info[['attribute','dtype']]\n",
    "featDF = featDF.loc[featDF['dtype'] == 'categorical']\n",
    "\n",
    "categoricals = featDF['attribute'].values\n",
    "attList = list(set(azdias.columns.values).intersection(categoricals))\n",
    "cat_azdias1 = azdias[attList]\n",
    "\n",
    "uniqueValue = cat_azdias1.nunique().to_frame().reset_index(level=0, inplace=False)\n",
    "uniqueValue.columns = ['index', 'nUnique']\n",
    "\n",
    "binDF = uniqueValue.loc[uniqueValue['nUnique'] <= 2]\n",
    "mulDF = uniqueValue.loc[uniqueValue['nUnique'] >2 ]\n",
    "\n",
    "print(binDF)\n",
    "print(mulDF)"
   ]
  },
  {
   "cell_type": "code",
   "execution_count": 30,
   "metadata": {},
   "outputs": [
    {
     "name": "stdout",
     "output_type": "stream",
     "text": [
      "<class 'pandas.core.frame.DataFrame'>\n",
      "Int64Index: 785211 entries, 1 to 891220\n",
      "Data columns (total 22 columns):\n",
      "CJT_GESAMTTYP       780701 non-null float64\n",
      "FINANZTYP           785211 non-null float64\n",
      "OST_WEST_KZ         785211 non-null object\n",
      "GREEN_AVANTGARDE    785211 non-null int64\n",
      "LP_FAMILIE_FEIN     754398 non-null float64\n",
      "KONSUMZELLE         785206 non-null float64\n",
      "SOHO_KZ             785211 non-null float64\n",
      "SHOPPER_TYP         749154 non-null float64\n",
      "GFK_URLAUBERTYP     780701 non-null float64\n",
      "ANREDE_KZ           785211 non-null float64\n",
      "LP_STATUS_FEIN      780701 non-null float64\n",
      "DSL_FLAG            785211 non-null float64\n",
      "CAMEO_DEUG_2015     781566 non-null object\n",
      "HH_DELTA_FLAG       752453 non-null float64\n",
      "NATIONALITAET_KZ    751910 non-null float64\n",
      "ZABEOTYP            785211 non-null float64\n",
      "UNGLEICHENN_FLAG    785211 non-null float64\n",
      "LP_FAMILIE_GROB     754398 non-null float64\n",
      "LP_STATUS_GROB      780701 non-null float64\n",
      "VERS_TYP            749154 non-null float64\n",
      "CAMEO_DEU_2015      781566 non-null object\n",
      "GEBAEUDETYP         785211 non-null float64\n",
      "dtypes: float64(18), int64(1), object(3)\n",
      "memory usage: 137.8+ MB\n"
     ]
    }
   ],
   "source": [
    "cat_azdias1.info()"
   ]
  },
  {
   "cell_type": "code",
   "execution_count": 31,
   "metadata": {},
   "outputs": [
    {
     "name": "stdout",
     "output_type": "stream",
     "text": [
      "['CJT_GESAMTTYP', 'FINANZTYP', 'SHOPPER_TYP', 'NATIONALITAET_KZ', 'ZABEOTYP', 'LP_FAMILIE_GROB', 'LP_STATUS_GROB', 'GEBAEUDETYP', 'OST_WEST_KZ']\n"
     ]
    }
   ],
   "source": [
    "# Re-encode categorical variable(s) to be kept in the analysis.\n",
    "#remove two object type columns\n",
    "hotEncodeColumns = mulDF['index'].values.tolist()\n",
    "hotEncodeColumns.remove('CAMEO_DEU_2015')\n",
    "hotEncodeColumns.remove('CAMEO_DEUG_2015')\n",
    "hotEncodeColumns.append('OST_WEST_KZ')\n",
    "\n",
    "#remove those varibale levels are more than 10\n",
    "hotEncodeColumns.remove('GFK_URLAUBERTYP')\n",
    "hotEncodeColumns.remove('LP_STATUS_FEIN')\n",
    "hotEncodeColumns.remove('LP_FAMILIE_FEIN')\n",
    "print(hotEncodeColumns)\n",
    "\n",
    "\n",
    "#re encode OST_WEST_KZ param\n",
    "if azdias['OST_WEST_KZ'].unique().dtype == 'int64' :\n",
    "    print(\"already set OST_WEST_KZ columns to int64 \")\n",
    "else:\n",
    "    azdias['OST_WEST_KZ'].replace({'W':0, 'O':1}, inplace=True)\n",
    "    azdias['OST_WEST_KZ'].unique()"
   ]
  },
  {
   "cell_type": "code",
   "execution_count": 32,
   "metadata": {},
   "outputs": [
    {
     "data": {
      "text/plain": [
       "(785211, 49)"
      ]
     },
     "execution_count": 32,
     "metadata": {},
     "output_type": "execute_result"
    }
   ],
   "source": [
    "encode_azdias1 = azdias[hotEncodeColumns]\n",
    "encode_azdias1 = encode_azdias1.applymap(str)\n",
    "encode_azdias1 = pd.get_dummies(encode_azdias1)\n",
    "encode_azdias1 = encode_azdias1.apply(pd.to_numeric)\n",
    "encode_azdias1.shape"
   ]
  },
  {
   "cell_type": "markdown",
   "metadata": {},
   "source": [
    "### Step 5: Deal with Mixed type features\n",
    "There are a handful of features that are marked as \"mixed\" in the feature summary that require special treatment in order to be included in the analysis. There are two in particular that deserve attention; the handling of the rest are up to your own choices:\n",
    "- \"PRAEGENDE_JUGENDJAHRE\" combines information on three dimensions: generation by decade, movement (mainstream vs. avantgarde), and nation (east vs. west). While there aren't enough levels to disentangle east from west, you should create two new variables to capture the other two dimensions: an interval-type variable for decade, and a binary variable for movement.\n",
    "- \"CAMEO_INTL_2015\" combines information on two axes: wealth and life stage. Break up the two-digit codes by their 'tens'-place and 'ones'-place digits into two new ordinal variables (which, for the purposes of this project, is equivalent to just treating them as their raw numeric values).\n",
    "- If you decide to keep or engineer new features around the other mixed-type features, make sure you note your steps in the Discussion section.\n",
    "\n",
    "We drop 'PRAEGENDE_JUGENDJAHRE' and create 'IS_MAINSTREAM','REGION' columns, they get mainstream and region info.  \n",
    "We drop 'CAMEO_INTL_2015'and create 'HOUSEHOLD_WEALTH','HOUSEHOLD_LIFE_STAGE' columns ,these two colums get wealth and life stage info.  \n",
    "And we drop all other mixed type columns,for most of the info are contained by other variables.  \n",
    "eg. LP_LEBENSPHASE_FEIN,LP_LEBENSPHASE_GROB contains age level,salary level and household type,we can see many columns contain these info.  "
   ]
  },
  {
   "cell_type": "code",
   "execution_count": 33,
   "metadata": {},
   "outputs": [],
   "source": [
    "# Investigate \"PRAEGENDE_JUGENDJAHRE\" and engineer two new variables.\n",
    "# \n",
    "azdias['PRAEGENDE_JUGENDJAHRE'].value_counts()\n",
    "# Mainstream :1  Avantgarde:2\n",
    "row_indexer = azdias['PRAEGENDE_JUGENDJAHRE'].isin([1,3,5,8,10,12,14])\n",
    "azdias.loc[row_indexer,'IS_MAINSTREAM']=1\n",
    "row_indexer = azdias['PRAEGENDE_JUGENDJAHRE'].isin([2,4,6,7,9,11,13,15])\n",
    "azdias.loc[row_indexer,'IS_MAINSTREAM']=2\n",
    "\n",
    "# E : 1 W : 2 E+W:3\n",
    "row_indexer = azdias['PRAEGENDE_JUGENDJAHRE'].isin([7,12,13])\n",
    "azdias.loc[row_indexer, 'REGION']=1\n",
    "row_indexer = azdias['PRAEGENDE_JUGENDJAHRE'].isin([6,10,11])\n",
    "azdias.loc[row_indexer, 'REGION']=2\n",
    "row_indexer = azdias['PRAEGENDE_JUGENDJAHRE'].isin([1,2,3,4,5,8,9,14,15])\n",
    "azdias.loc[row_indexer,'REGION']=3\n",
    "\n",
    "azdias = azdias.drop('PRAEGENDE_JUGENDJAHRE', axis=1)"
   ]
  },
  {
   "cell_type": "code",
   "execution_count": 34,
   "metadata": {},
   "outputs": [
    {
     "data": {
      "text/html": [
       "<div>\n",
       "<style scoped>\n",
       "    .dataframe tbody tr th:only-of-type {\n",
       "        vertical-align: middle;\n",
       "    }\n",
       "\n",
       "    .dataframe tbody tr th {\n",
       "        vertical-align: top;\n",
       "    }\n",
       "\n",
       "    .dataframe thead th {\n",
       "        text-align: right;\n",
       "    }\n",
       "</style>\n",
       "<table border=\"1\" class=\"dataframe\">\n",
       "  <thead>\n",
       "    <tr style=\"text-align: right;\">\n",
       "      <th></th>\n",
       "      <th>ANZ_HAUSHALTE_AKTIV</th>\n",
       "      <th>ANZ_HH_TITEL</th>\n",
       "      <th>ANZ_KINDER</th>\n",
       "      <th>ANZ_PERSONEN</th>\n",
       "      <th>ANZ_STATISTISCHE_HAUSHALTE</th>\n",
       "      <th>ANZ_TITEL</th>\n",
       "      <th>ARBEIT</th>\n",
       "      <th>BALLRAUM</th>\n",
       "      <th>CAMEO_DEU_2015</th>\n",
       "      <th>CAMEO_DEUG_2015</th>\n",
       "      <th>...</th>\n",
       "      <th>UNGLEICHENN_FLAG</th>\n",
       "      <th>VERS_TYP</th>\n",
       "      <th>W_KEIT_KIND_HH</th>\n",
       "      <th>WOHNDAUER_2008</th>\n",
       "      <th>WOHNLAGE</th>\n",
       "      <th>ZABEOTYP</th>\n",
       "      <th>ANREDE_KZ</th>\n",
       "      <th>ALTERSKATEGORIE_GROB</th>\n",
       "      <th>IS_MAINSTREAM</th>\n",
       "      <th>REGION</th>\n",
       "    </tr>\n",
       "  </thead>\n",
       "  <tbody>\n",
       "    <tr>\n",
       "      <td>1</td>\n",
       "      <td>11.0</td>\n",
       "      <td>0.0</td>\n",
       "      <td>0.0</td>\n",
       "      <td>2.0</td>\n",
       "      <td>12.0</td>\n",
       "      <td>0.0</td>\n",
       "      <td>3.0</td>\n",
       "      <td>6.0</td>\n",
       "      <td>8A</td>\n",
       "      <td>8</td>\n",
       "      <td>...</td>\n",
       "      <td>1.0</td>\n",
       "      <td>2.0</td>\n",
       "      <td>3.0</td>\n",
       "      <td>9.0</td>\n",
       "      <td>4.0</td>\n",
       "      <td>5.0</td>\n",
       "      <td>2.0</td>\n",
       "      <td>1.0</td>\n",
       "      <td>1.0</td>\n",
       "      <td>3.0</td>\n",
       "    </tr>\n",
       "    <tr>\n",
       "      <td>2</td>\n",
       "      <td>10.0</td>\n",
       "      <td>0.0</td>\n",
       "      <td>0.0</td>\n",
       "      <td>1.0</td>\n",
       "      <td>7.0</td>\n",
       "      <td>0.0</td>\n",
       "      <td>3.0</td>\n",
       "      <td>2.0</td>\n",
       "      <td>4C</td>\n",
       "      <td>4</td>\n",
       "      <td>...</td>\n",
       "      <td>0.0</td>\n",
       "      <td>1.0</td>\n",
       "      <td>3.0</td>\n",
       "      <td>9.0</td>\n",
       "      <td>2.0</td>\n",
       "      <td>5.0</td>\n",
       "      <td>2.0</td>\n",
       "      <td>3.0</td>\n",
       "      <td>2.0</td>\n",
       "      <td>3.0</td>\n",
       "    </tr>\n",
       "    <tr>\n",
       "      <td>3</td>\n",
       "      <td>1.0</td>\n",
       "      <td>0.0</td>\n",
       "      <td>0.0</td>\n",
       "      <td>0.0</td>\n",
       "      <td>2.0</td>\n",
       "      <td>0.0</td>\n",
       "      <td>2.0</td>\n",
       "      <td>4.0</td>\n",
       "      <td>2A</td>\n",
       "      <td>2</td>\n",
       "      <td>...</td>\n",
       "      <td>0.0</td>\n",
       "      <td>1.0</td>\n",
       "      <td>NaN</td>\n",
       "      <td>9.0</td>\n",
       "      <td>7.0</td>\n",
       "      <td>3.0</td>\n",
       "      <td>2.0</td>\n",
       "      <td>4.0</td>\n",
       "      <td>1.0</td>\n",
       "      <td>3.0</td>\n",
       "    </tr>\n",
       "    <tr>\n",
       "      <td>4</td>\n",
       "      <td>3.0</td>\n",
       "      <td>0.0</td>\n",
       "      <td>0.0</td>\n",
       "      <td>4.0</td>\n",
       "      <td>3.0</td>\n",
       "      <td>0.0</td>\n",
       "      <td>4.0</td>\n",
       "      <td>2.0</td>\n",
       "      <td>6B</td>\n",
       "      <td>6</td>\n",
       "      <td>...</td>\n",
       "      <td>0.0</td>\n",
       "      <td>2.0</td>\n",
       "      <td>2.0</td>\n",
       "      <td>9.0</td>\n",
       "      <td>3.0</td>\n",
       "      <td>4.0</td>\n",
       "      <td>1.0</td>\n",
       "      <td>3.0</td>\n",
       "      <td>1.0</td>\n",
       "      <td>3.0</td>\n",
       "    </tr>\n",
       "    <tr>\n",
       "      <td>5</td>\n",
       "      <td>5.0</td>\n",
       "      <td>0.0</td>\n",
       "      <td>0.0</td>\n",
       "      <td>1.0</td>\n",
       "      <td>2.0</td>\n",
       "      <td>0.0</td>\n",
       "      <td>2.0</td>\n",
       "      <td>6.0</td>\n",
       "      <td>8C</td>\n",
       "      <td>8</td>\n",
       "      <td>...</td>\n",
       "      <td>0.0</td>\n",
       "      <td>2.0</td>\n",
       "      <td>6.0</td>\n",
       "      <td>9.0</td>\n",
       "      <td>7.0</td>\n",
       "      <td>4.0</td>\n",
       "      <td>2.0</td>\n",
       "      <td>1.0</td>\n",
       "      <td>1.0</td>\n",
       "      <td>3.0</td>\n",
       "    </tr>\n",
       "  </tbody>\n",
       "</table>\n",
       "<p>5 rows × 268 columns</p>\n",
       "</div>"
      ],
      "text/plain": [
       "   ANZ_HAUSHALTE_AKTIV  ANZ_HH_TITEL  ANZ_KINDER  ANZ_PERSONEN  \\\n",
       "1                 11.0           0.0         0.0           2.0   \n",
       "2                 10.0           0.0         0.0           1.0   \n",
       "3                  1.0           0.0         0.0           0.0   \n",
       "4                  3.0           0.0         0.0           4.0   \n",
       "5                  5.0           0.0         0.0           1.0   \n",
       "\n",
       "   ANZ_STATISTISCHE_HAUSHALTE  ANZ_TITEL  ARBEIT  BALLRAUM CAMEO_DEU_2015  \\\n",
       "1                        12.0        0.0     3.0       6.0             8A   \n",
       "2                         7.0        0.0     3.0       2.0             4C   \n",
       "3                         2.0        0.0     2.0       4.0             2A   \n",
       "4                         3.0        0.0     4.0       2.0             6B   \n",
       "5                         2.0        0.0     2.0       6.0             8C   \n",
       "\n",
       "  CAMEO_DEUG_2015  ... UNGLEICHENN_FLAG  VERS_TYP  W_KEIT_KIND_HH  \\\n",
       "1               8  ...              1.0       2.0             3.0   \n",
       "2               4  ...              0.0       1.0             3.0   \n",
       "3               2  ...              0.0       1.0             NaN   \n",
       "4               6  ...              0.0       2.0             2.0   \n",
       "5               8  ...              0.0       2.0             6.0   \n",
       "\n",
       "   WOHNDAUER_2008  WOHNLAGE  ZABEOTYP  ANREDE_KZ  ALTERSKATEGORIE_GROB  \\\n",
       "1             9.0       4.0       5.0        2.0                   1.0   \n",
       "2             9.0       2.0       5.0        2.0                   3.0   \n",
       "3             9.0       7.0       3.0        2.0                   4.0   \n",
       "4             9.0       3.0       4.0        1.0                   3.0   \n",
       "5             9.0       7.0       4.0        2.0                   1.0   \n",
       "\n",
       "   IS_MAINSTREAM  REGION  \n",
       "1            1.0     3.0  \n",
       "2            2.0     3.0  \n",
       "3            1.0     3.0  \n",
       "4            1.0     3.0  \n",
       "5            1.0     3.0  \n",
       "\n",
       "[5 rows x 268 columns]"
      ]
     },
     "execution_count": 34,
     "metadata": {},
     "output_type": "execute_result"
    }
   ],
   "source": [
    "azdias.head()"
   ]
  },
  {
   "cell_type": "code",
   "execution_count": 35,
   "metadata": {},
   "outputs": [],
   "source": [
    "# Investigate \"CAMEO_INTL_2015\" and engineer two new variables.\n",
    "\n",
    "# create new column 'HOUSEHOLD_WEALTH'\n",
    "\n",
    "azdias['CAMEO_INTL_2015'] = azdias['CAMEO_INTL_2015'].fillna(0)\n",
    "azdias.loc[azdias['CAMEO_INTL_2015'].isin([51,52,53,54,55]),'HOUSEHOLD_WEALTH']=1\n",
    "azdias.loc[azdias['CAMEO_INTL_2015'].isin([41,42,43,44,45]),'HOUSEHOLD_WEALTH']=2\n",
    "azdias.loc[azdias['CAMEO_INTL_2015'].isin([31,32,33,34,35]),'HOUSEHOLD_WEALTH']=3\n",
    "azdias.loc[azdias['CAMEO_INTL_2015'].isin([21,22,23,24,25]),'HOUSEHOLD_WEALTH']=4\n",
    "azdias.loc[azdias['CAMEO_INTL_2015'].isin([11,12,13,14,15]),'HOUSEHOLD_WEALTH']=5\n",
    "\n",
    "# create new column 'HOUSEHOLD_LIFE_STAGE'\n",
    "azdias.loc[azdias['CAMEO_INTL_2015'].isin([11,21,31,41,51]),'HOUSEHOLD_LIFE_STAGE']=1\n",
    "azdias.loc[azdias['CAMEO_INTL_2015'].isin([12,22,32,42,52]),'HOUSEHOLD_LIFE_STAGE']=2\n",
    "azdias.loc[azdias['CAMEO_INTL_2015'].isin([13,23,33,43,53]),'HOUSEHOLD_LIFE_STAGE']=3\n",
    "azdias.loc[azdias['CAMEO_INTL_2015'].isin([14,24,34,44,54]),'HOUSEHOLD_LIFE_STAGE']=4\n",
    "azdias.loc[azdias['CAMEO_INTL_2015'].isin([15,25,35,45,55]),'HOUSEHOLD_LIFE_STAGE']=5\n",
    "\n",
    "\n",
    "# drop original column\n",
    "azdias=azdias.drop('CAMEO_INTL_2015',axis=1)"
   ]
  },
  {
   "cell_type": "markdown",
   "metadata": {},
   "source": [
    "### Step 6: Complete Feature Selection\n",
    "\n",
    "In order to finish this step up, you need to make sure that your data frame now only has the columns that you want to keep. To summarize, the dataframe should consist of the following:\n",
    "- All numeric, interval, and ordinal type columns from the original dataset.\n",
    "- Binary categorical features (all numerically-encoded).\n",
    "- Engineered features from other multi-level categorical features and mixed features."
   ]
  },
  {
   "cell_type": "code",
   "execution_count": 36,
   "metadata": {},
   "outputs": [
    {
     "name": "stdout",
     "output_type": "stream",
     "text": [
      "(785211, 313)\n"
     ]
    }
   ],
   "source": [
    "#drop object columns except OST_WEST_KZ\n",
    "azdias = azdias.drop(['CAMEO_DEU_2015','CAMEO_DEUG_2015'],axis=1)\n",
    "\n",
    "#drop mul-level >10 columns\n",
    "# GFK_URLAUBERTYP  LP_STATUS_FEIN LP_FAMILIE_FEIN\n",
    "azdias = azdias.drop(['GFK_URLAUBERTYP','LP_STATUS_FEIN','LP_FAMILIE_FEIN'],axis=1)\n",
    "\n",
    "\n",
    "azdias = pd.concat([azdias, encode_azdias1], axis=1)\n",
    "print(azdias.shape)"
   ]
  },
  {
   "cell_type": "markdown",
   "metadata": {},
   "source": [
    "#### Step 7: Create a Clean Function  \n",
    "We'll need to perform the same cleaning steps on the customer demographics data. In this substep, complete the function below   \n",
    "to execute the main feature selection, encoding, and re-engineering steps we performed above. Then, when it comes to looking at  \n",
    "the customer data in Part1 Customer Segmentation Report, we can just run this function on that DataFrame to get the trimmed  \n",
    "dataset in a single step."
   ]
  },
  {
   "cell_type": "code",
   "execution_count": 71,
   "metadata": {},
   "outputs": [],
   "source": [
    "\n",
    "not_described_feature = ['VHA', 'VK_ZG11', 'VERDICHTUNGSRAUM',  'CJT_KATALOGNUTZER', 'ALTER_KIND1', 'KOMBIALTER', \n",
    "                       'EXTSEL992', 'LNR',  'UMFELD_JUNG', 'VHN', 'AKT_DAT_KL', 'VK_DISTANZ', 'RT_SCHNAEPPCHEN',\n",
    "                       'ALTER_KIND3',  'RT_KEIN_ANREIZ', 'RT_UEBERGROESSE',  'UMFELD_ALT', 'STRUKTURTYP', \n",
    "                       'D19_KONSUMTYP_MAX', 'ALTER_KIND4', 'ALTER_KIND2', 'EINGEFUEGT_AM',  'D19_LETZTER_KAUF_BRANCHE',\n",
    "                       'VK_DHT4A', 'FIRMENDICHTE', 'GEMEINDETYP']\n",
    "df_feat_info = pd.read_csv('DIAS_Feature_Summary.csv', sep=';')\n",
    "\n",
    "def clean_data(df, df_feat_info):\n",
    "    \"\"\"\n",
    "    Perform feature trimming, re-encoding, and engineering for demographics\n",
    "    data\n",
    "    \n",
    "    INPUT: Demographics DataFrame\n",
    "    OUTPUT: Trimmed and cleaned demographics DataFrame\n",
    "    \"\"\"\n",
    "    azdias = df\n",
    "    # drop not described features\n",
    "    azdias.drop(labels=not_described_feature, axis=1, inplace=True)\n",
    "    print(\"[1.0 drop not described features]\")\n",
    "    \n",
    "    # Put in code here to execute all main cleaning steps:\n",
    "    # convert missing value codes into NaNs, ...\n",
    "    for col in range( df_feat_info.shape[0]):\n",
    "        col_name = df_feat_info['attribute'][col]\n",
    "        nalist = df_feat_info.iloc[col,2]\n",
    "        nalist = nalist.replace('[','')\n",
    "        nalist = nalist.replace(']','')\n",
    "        nalist = nalist.split(',')\n",
    "        if nalist == ['']:\n",
    "            continue\n",
    "        else:\n",
    "            for nacode in nalist:\n",
    "                # print( col_name)\n",
    "                # print( feat_info['dtype'][col])\n",
    "                # print( nalist)\n",
    "                if df_feat_info['dtype'][col] != 'object':\n",
    "                    nacode = int(nacode)\n",
    "                    azdias.loc[azdias[col_name] == nacode, col_name] = np.nan\n",
    "    print(\"[1.1 convert missing value codes into Nans]\")\n",
    "    \n",
    "    azdias = azdias.drop(['AGER_TYP','GEBURTSJAHR','TITEL_KZ','ALTER_HH','KK_KUNDENTYP','KBA05_BAUMAX'],axis=1)\n",
    "    #drop object columns except OST_WEST_KZ\n",
    "    azdias = azdias.drop(['CAMEO_DEU_2015','CAMEO_DEUG_2015'],axis=1)\n",
    "    \n",
    "    #drop mul-level >10 columns\n",
    "    # GFK_URLAUBERTYP  LP_STATUS_FEIN LP_FAMILIE_FEIN\n",
    "    azdias = azdias.drop(['GFK_URLAUBERTYP','LP_STATUS_FEIN','LP_FAMILIE_FEIN'],axis=1)\n",
    "    \n",
    "    print(\"1.2 remove selected columns and rows\")\n",
    "    # select, re-encode, and engineer column values.\n",
    "    naCount = pd.DataFrame(azdias.shape[1] - azdias.count(axis=1))\n",
    "    naCount.columns = ['naCount']\n",
    "    SplitNum =20\n",
    "    naCount1 = naCount[naCount['naCount'] < SplitNum]\n",
    "    naCount2 = naCount[naCount['naCount'] >=SplitNum]\n",
    "    azdias1 = azdias.iloc[naCount1.index, :]\n",
    "    azdias2 = azdias.iloc[naCount2.index, :]\n",
    "\n",
    "    featDF = feat_info[['attribute','dtype']]\n",
    "    featDF = featDF.loc[featDF['dtype'] == 'categorical']\n",
    "\n",
    "    categoricals = featDF['attribute'].values\n",
    "    attList = list(set(azdias1.columns.values).intersection(categoricals))\n",
    "    cat_azdias1 = azdias1[attList]\n",
    "\n",
    "    uniqueValue = cat_azdias1.nunique().to_frame().reset_index(level=0, inplace=False)\n",
    "    uniqueValue.columns = ['index', 'nUnique']\n",
    "\n",
    "    binDF = uniqueValue.loc[uniqueValue['nUnique'] <= 2]\n",
    "    mulDF = uniqueValue.loc[uniqueValue['nUnique'] >2 ]\n",
    "    \n",
    "    # Re-encode categorical variable(s) to be kept in the analysis.\n",
    "\n",
    "    hotEncodeColumns = mulDF['index'].values.tolist()\n",
    "    hotEncodeColumns.append('OST_WEST_KZ')\n",
    "\n",
    "    #re encode OST_WEST_KZ param\n",
    "    if azdias1['OST_WEST_KZ'].unique().dtype == 'int64' :\n",
    "        print(\"already set OST_WEST_KZ columns to int64 \")\n",
    "    else:\n",
    "        azdias1['OST_WEST_KZ'].replace({'W':0, 'O':1}, inplace=True)\n",
    "        azdias1['OST_WEST_KZ'].unique()\n",
    "    \n",
    "    encode_azdias1 = azdias1[hotEncodeColumns]\n",
    "    encode_azdias1 = encode_azdias1.applymap(str)\n",
    "    encode_azdias1 = pd.get_dummies(encode_azdias1)\n",
    "    encode_azdias1 = encode_azdias1.apply(pd.to_numeric)\n",
    "    print(\"[1.3 re encode some columns]\")\n",
    "    # Investigate \"PRAEGENDE_JUGENDJAHRE\" and engineer two new variables.\n",
    "    # \n",
    "    azdias1['PRAEGENDE_JUGENDJAHRE'].value_counts()\n",
    "    # Mainstream :1  Avantgarde:2\n",
    "    row_indexer = azdias1['PRAEGENDE_JUGENDJAHRE'].isin([1,3,5,8,10,12,14])\n",
    "    azdias1.loc[row_indexer,'IS_MAINSTREAM']=1\n",
    "    row_indexer = azdias1['PRAEGENDE_JUGENDJAHRE'].isin([2,4,6,7,9,11,13,15])\n",
    "    azdias1.loc[row_indexer,'IS_MAINSTREAM']=2\n",
    "\n",
    "    # E : 1 W : 2 E+W:3\n",
    "    row_indexer = azdias1['PRAEGENDE_JUGENDJAHRE'].isin([7,12,13])\n",
    "    azdias1.loc[row_indexer, 'REGION']=1\n",
    "    row_indexer = azdias1['PRAEGENDE_JUGENDJAHRE'].isin([6,10,11])\n",
    "    azdias1.loc[row_indexer, 'REGION']=2\n",
    "    row_indexer = azdias1['PRAEGENDE_JUGENDJAHRE'].isin([1,2,3,4,5,8,9,14,15])\n",
    "    azdias1.loc[row_indexer,'REGION']=3\n",
    "    azdias1 = azdias1.drop('PRAEGENDE_JUGENDJAHRE', axis=1)\n",
    "    \n",
    "    # Investigate \"CAMEO_INTL_2015\" and engineer two new variables.\n",
    "\n",
    "    # create new column 'HOUSEHOLD_WEALTH'\n",
    "    azdias1['CAMEO_INTL_2015'] = azdias1['CAMEO_INTL_2015'].fillna(0)\n",
    "    azdias1.loc[azdias1['CAMEO_INTL_2015'].isin([51,52,53,54,55]),'HOUSEHOLD_WEALTH']=1\n",
    "    azdias1.loc[azdias1['CAMEO_INTL_2015'].isin([41,42,43,44,45]),'HOUSEHOLD_WEALTH']=2\n",
    "    azdias1.loc[azdias1['CAMEO_INTL_2015'].isin([31,32,33,34,35]),'HOUSEHOLD_WEALTH']=3\n",
    "    azdias1.loc[azdias1['CAMEO_INTL_2015'].isin([21,22,23,24,25]),'HOUSEHOLD_WEALTH']=4\n",
    "    azdias1.loc[azdias1['CAMEO_INTL_2015'].isin([11,12,13,14,15]),'HOUSEHOLD_WEALTH']=5\n",
    "\n",
    "    # create new column 'HOUSEHOLD_LIFE_STAGE'\n",
    "    azdias1.loc[azdias1['CAMEO_INTL_2015'].isin([11,21,31,41,51]),'HOUSEHOLD_LIFE_STAGE']=1\n",
    "    azdias1.loc[azdias1['CAMEO_INTL_2015'].isin([12,22,32,42,52]),'HOUSEHOLD_LIFE_STAGE']=2\n",
    "    azdias1.loc[azdias1['CAMEO_INTL_2015'].isin([13,23,33,43,53]),'HOUSEHOLD_LIFE_STAGE']=3\n",
    "    azdias1.loc[azdias1['CAMEO_INTL_2015'].isin([14,24,34,44,54]),'HOUSEHOLD_LIFE_STAGE']=4\n",
    "    azdias1.loc[azdias1['CAMEO_INTL_2015'].isin([15,25,35,45,55]),'HOUSEHOLD_LIFE_STAGE']=5\n",
    "    # drop original column\n",
    "    azdias1=azdias1.drop('CAMEO_INTL_2015',axis=1)\n",
    "    \n",
    "    print(\"[1.4 engineer some columns]\")\n",
    "    \n",
    "    azdias1 = pd.concat([azdias1, encode_azdias1], axis=1)\n",
    "    # calculate the percentage of missing values per feature\n",
    "    missing_per_column = azdias.isnull().mean()\n",
    "    # features to be dropped have more than 20% missing values \n",
    "    drop_missing_per_column = missing_per_column[missing_per_column > 0.2].index\n",
    "    azdias_cleaned = azdias.drop(labels=drop_missing_per_column, axis=1, inplace=True)\n",
    "\n",
    "    print(\"[1.5 return cleaned azdias dataframe]\")\n",
    "    return azdias_cleaned\n",
    "    # Return the cleaned dataframe."
   ]
  },
  {
   "cell_type": "markdown",
   "metadata": {},
   "source": [
    "### Step 8.1: Apply Feature Scaling\n",
    "- sklearn requires that data not have missing values in order for its estimators to work properly. So, before applying the scaler to your data, make sure that you've cleaned the DataFrame of the remaining missing values. This can be as simple as just removing all data points with missing data, or applying an [Imputer](http://scikit-learn.org/stable/modules/generated/sklearn.preprocessing.Imputer.html) to replace all missing values. You might also try a more complicated procedure where you temporarily remove missing values in order to compute the scaling parameters before re-introducing those missing values and applying imputation. Think about how much missing data you have and what possible effects each approach might have on your analysis, and justify your decision in the discussion section below.\n",
    "- For the actual scaling function, a [StandardScaler](http://scikit-learn.org/stable/modules/generated/sklearn.preprocessing.StandardScaler.html) instance is suggested, scaling each feature to mean 0 and standard deviation 1.\n",
    "- For these classes, you can make use of the `.fit_transform()` method to both fit a procedure to the data as well as apply the transformation to the data at the same time. Don't forget to keep the fit sklearn objects handy, since you'll be applying them to the customer demographics data towards the end of the project.\n",
    "\n",
    "My strategy for imputer is to replace nans by the most frequent values in each column. For we can see that,the most frequent valuses are the least special value in those respects for analysis."
   ]
  },
  {
   "cell_type": "code",
   "execution_count": 42,
   "metadata": {},
   "outputs": [
    {
     "name": "stderr",
     "output_type": "stream",
     "text": [
      "D:\\ProgramData\\Anaconda3\\lib\\site-packages\\sklearn\\utils\\deprecation.py:66: DeprecationWarning: Class Imputer is deprecated; Imputer was deprecated in version 0.20 and will be removed in 0.22. Import impute.SimpleImputer from sklearn instead.\n",
      "  warnings.warn(msg, category=DeprecationWarning)\n"
     ]
    }
   ],
   "source": [
    "imp = Imputer(strategy='most_frequent', axis=1)\n",
    "azdias_clean_trans = imp.fit_transform(azdias)\n",
    "azdias_clean_df = pd.DataFrame(azdias_clean_trans, columns=azdias.columns)\n",
    "\n",
    "# Apply feature scaling to the general population demographics data.\n",
    "\n",
    "scaler = StandardScaler()\n",
    "azdias_clean_trans = scaler.fit_transform(azdias_clean_trans)"
   ]
  },
  {
   "cell_type": "markdown",
   "metadata": {},
   "source": [
    "## Part 1: Customer Segmentation Report\n",
    "\n",
    "The main bulk of your analysis will come in this part of the project. Here, you should use unsupervised learning techniques to describe the relationship between the demographics of the company's existing customers and the general population of Germany. By the end of this part, you should be able to describe parts of the general population that are more likely to be part of the mail-order company's main customer base, and which parts of the general population are less so."
   ]
  },
  {
   "cell_type": "markdown",
   "metadata": {},
   "source": [
    "### Step 1: PCA\n",
    "- Use sklearn's [PCA](http://scikit-learn.org/stable/modules/generated/sklearn.decomposition.PCA.html) class to apply principal component analysis on the data, thus finding the vectors of maximal variance in the data. To start, you should not set any parameters (so all components are computed) or set a number of components that is at least half the number of features (so there's enough features to see the general trend in variability).\n",
    "- Check out the ratio of variance explained by each principal component as well as the cumulative variance explained. Try plotting the cumulative or sequential values using matplotlib's [`plot()`](https://matplotlib.org/api/_as_gen/matplotlib.pyplot.plot.html) function. Based on what you find, select a value for the number of transformed features you'll retain for the clustering part of the project.\n",
    "- Once you've made a choice for the number of components to keep, make sure you re-fit a PCA instance to perform the decided-on transformation."
   ]
  },
  {
   "cell_type": "code",
   "execution_count": 43,
   "metadata": {},
   "outputs": [],
   "source": [
    "# Apply PCA to the data.\n",
    "\n",
    "pcaModel = PCA()\n",
    "Azidas_pca = pcaModel.fit_transform(azdias_clean_trans)"
   ]
  },
  {
   "cell_type": "code",
   "execution_count": 46,
   "metadata": {},
   "outputs": [],
   "source": [
    "# Investigate the variance accounted for by each principal component.\n",
    "def parse_var_plot(pca):\n",
    "    num_components = len(pca.explained_variance_ratio_)\n",
    "    ind = np.arange(num_components)\n",
    "    vals = pca.explained_variance_ratio_\n",
    " \n",
    "    plt.figure(figsize=(18, 10))\n",
    "    ax = plt.subplot(111)\n",
    "    cumvals = np.cumsum(vals)\n",
    "    ax.bar(ind, vals)\n",
    "    ax.plot(ind, cumvals)\n",
    "    for i in range(num_components):\n",
    "        ax.annotate(r\"%s%%\" % ((str(vals[i]*100)[:4])), (ind[i]+0.2, vals[i]), va=\"bottom\", ha=\"center\", fontsize=12)\n",
    " \n",
    "    ax.xaxis.set_tick_params(width=0)\n",
    "    ax.yaxis.set_tick_params(width=2, length=12)\n",
    " \n",
    "    ax.set_xlabel(\"Principal Component\")\n",
    "    ax.set_ylabel(\"Variance Explained (%)\")\n",
    "    plt.title('Explained Variance Per Principal Component')\n"
   ]
  },
  {
   "cell_type": "code",
   "execution_count": 47,
   "metadata": {},
   "outputs": [
    {
     "data": {
      "image/png": "[encoded data removed]",
      "text/plain": [
       "<Figure size 1296x720 with 1 Axes>"
      ]
     },
     "metadata": {
      "needs_background": "light"
     },
     "output_type": "display_data"
    }
   ],
   "source": [
    "parse_var_plot(pcaModel)"
   ]
  },
  {
   "cell_type": "code",
   "execution_count": 52,
   "metadata": {},
   "outputs": [],
   "source": [
    "# Re-apply PCA to the data while selecting for number of components to retain\n",
    "pca = PCA(n_components=150)\n",
    "Azidas_pca = pca.fit_transform(azdias_clean_trans)"
   ]
  },
  {
   "cell_type": "markdown",
   "metadata": {},
   "source": [
    "### Step 2：Interpret Principal Components"
   ]
  },
  {
   "cell_type": "code",
   "execution_count": 55,
   "metadata": {},
   "outputs": [],
   "source": [
    "def interpetPCA(pca, df, dimOfInterest, showFeat):\n",
    "    # PCA components\n",
    "    components = pd.DataFrame(np.round(pca.components_, 5), columns = df.columns.values)\n",
    "\n",
    "    # PCA explained variance per dimension\n",
    "    ratios = pca.explained_variance_ratio_.reshape(len(pca.components_), 1)\n",
    "    variance_ratios = pd.DataFrame(np.round(ratios, 4), columns = ['Explained Variance'])\n",
    "\n",
    "    pcaDf = pd.concat([variance_ratios, components], axis = 1)\n",
    "\n",
    "    #look at single dimension\n",
    "    singleComp = components.iloc[dimOfInterest,:]\n",
    "    topComp = singleComp.sort_values(ascending=False)[0:showFeat].to_frame().transpose()\n",
    "    bottomComp = singleComp.sort_values(ascending=True)[0:showFeat].to_frame().transpose()\n",
    "    singleComp = pd.concat([topComp, bottomComp], axis=1)\n",
    "    print(topComp)\n",
    "    print(bottomComp)\n",
    "    ax = singleComp.plot(kind='bar', figsize=(10, 6))\n",
    "\n",
    "    ax.legend(loc='center left', bbox_to_anchor=(1, 0.5))"
   ]
  },
  {
   "cell_type": "code",
   "execution_count": 56,
   "metadata": {},
   "outputs": [
    {
     "name": "stdout",
     "output_type": "stream",
     "text": [
      "   KBA13_BAUMAX  KBA13_ANTG3  KBA13_ANTG4\n",
      "0       0.14641      0.14629      0.14565\n",
      "   PLZ8_ANTG1  KBA13_ANTG1  MOBI_REGIO\n",
      "0    -0.15077      -0.1506    -0.14622\n"
     ]
    },
    {
     "data": {
      "image/png": "[encoded data removed]",
      "text/plain": [
       "<Figure size 720x432 with 1 Axes>"
      ]
     },
     "metadata": {
      "needs_background": "light"
     },
     "output_type": "display_data"
    }
   ],
   "source": [
    "interpetPCA(pca, azdias_clean_df, 0, 3)"
   ]
  },
  {
   "cell_type": "markdown",
   "metadata": {},
   "source": [
    "### Step 3：Clustering and Evaluation\n",
    "In this substep, we will apply k-means clustering to the dataset and use the average within-cluster distances from each point to their assigned cluster's centroid to decide on a number of clusters to keep."
   ]
  },
  {
   "cell_type": "code",
   "execution_count": null,
   "metadata": {},
   "outputs": [
    {
     "name": "stdout",
     "output_type": "stream",
     "text": [
      "0: clusters10 SSE180635815.66013038\n"
     ]
    }
   ],
   "source": [
    "# Over a number of different cluster counts...\n",
    "centersOwn, scoresOwn = np.arange(10,18), []\n",
    "\n",
    "\n",
    "for counter, clusters in enumerate(centersOwn):\n",
    "    # run k-means clustering on the data and...\n",
    "    kmeans = KMeans(clusters)\n",
    "    model = kmeans.fit(Azidas_pca)\n",
    "    # compute the average within-cluster distances.\n",
    "    scoresOwn.append(model.inertia_)\n",
    "    print(\"{}: clusters{} SSE{}\".format(counter, clusters, model.inertia_ ))"
   ]
  },
  {
   "cell_type": "code",
   "execution_count": null,
   "metadata": {},
   "outputs": [],
   "source": [
    "# Investigate the change in within-cluster distance across number of clusters.\n",
    "# HINT: Use matplotlib's plot function to visualize this relationship.\n",
    "\n",
    "plt.plot(centersOwn, scoresOwn, linestyle='--', marker='o', color='b');\n",
    "plt.xlabel('K');\n",
    "plt.ylabel('SSE');\n",
    "plt.title('SSE vs. K')"
   ]
  },
  {
   "cell_type": "markdown",
   "metadata": {},
   "source": [
    "In the range number 10-18, I choose 16 clusters for k-means model,  \n",
    "because the average distance decrease is obiviously smaller than before."
   ]
  },
  {
   "cell_type": "code",
   "execution_count": null,
   "metadata": {},
   "outputs": [],
   "source": [
    "# Re-fit the k-means model with the selected number of clusters and obtain\n",
    "# cluster predictions for the general population demographics data.\n",
    "\n",
    "from sklearn.cluster import KMeans\n",
    "kmeans = KMeans(n_clusters=16)\n",
    "model_az = kmeans.fit(Azidas_pca)\n",
    "labels_az = model_az.predict(Azidas_pca)"
   ]
  },
  {
   "cell_type": "markdown",
   "metadata": {},
   "source": [
    "### Step 4：Apply All Steps to the Customer Data"
   ]
  },
  {
   "cell_type": "code",
   "execution_count": 72,
   "metadata": {},
   "outputs": [],
   "source": [
    "# Load in the customer demographics data.\n",
    "customers = pd.read_csv('Udacity_CUSTOMERS_052018.csv', sep=';')\n",
    "\n",
    "diff_customers_azdias = ['PRODUCT_GROUP', 'ONLINE_PURCHASE', 'CUSTOMER_GROUP']\n",
    "\n",
    "df_feat_info = pd.read_csv('DIAS_Feature_Summary.csv', sep=';')\n",
    "# for customers three additional columns have to be dropped before cleaning\n",
    "customers.drop(diff_customers_azdias, axis=1, inplace=True)"
   ]
  },
  {
   "cell_type": "code",
   "execution_count": 73,
   "metadata": {},
   "outputs": [
    {
     "name": "stdout",
     "output_type": "stream",
     "text": [
      "[1.0 drop not described features]\n",
      "[1.1 convert missing value codes into Nans]\n",
      "1.2 remove selected columns and rows\n"
     ]
    },
    {
     "name": "stderr",
     "output_type": "stream",
     "text": [
      "D:\\ProgramData\\Anaconda3\\lib\\site-packages\\pandas\\core\\generic.py:6786: SettingWithCopyWarning: \n",
      "A value is trying to be set on a copy of a slice from a DataFrame\n",
      "\n",
      "See the caveats in the documentation: http://pandas.pydata.org/pandas-docs/stable/user_guide/indexing.html#returning-a-view-versus-a-copy\n",
      "  self._update_inplace(new_data)\n",
      "D:\\ProgramData\\Anaconda3\\lib\\site-packages\\pandas\\core\\indexing.py:376: SettingWithCopyWarning: \n",
      "A value is trying to be set on a copy of a slice from a DataFrame.\n",
      "Try using .loc[row_indexer,col_indexer] = value instead\n",
      "\n",
      "See the caveats in the documentation: http://pandas.pydata.org/pandas-docs/stable/user_guide/indexing.html#returning-a-view-versus-a-copy\n",
      "  self.obj[key] = _infer_fill_value(value)\n",
      "D:\\ProgramData\\Anaconda3\\lib\\site-packages\\pandas\\core\\indexing.py:494: SettingWithCopyWarning: \n",
      "A value is trying to be set on a copy of a slice from a DataFrame.\n",
      "Try using .loc[row_indexer,col_indexer] = value instead\n",
      "\n",
      "See the caveats in the documentation: http://pandas.pydata.org/pandas-docs/stable/user_guide/indexing.html#returning-a-view-versus-a-copy\n",
      "  self.obj[item] = s\n"
     ]
    },
    {
     "name": "stdout",
     "output_type": "stream",
     "text": [
      "[1.3 re encode some columns]\n",
      "[1.4 engineer some columns]\n",
      "[1.5 return cleaned azdias dataframe]\n"
     ]
    }
   ],
   "source": [
    "customers_cleaned = clean_data(customers, df_feat_info)"
   ]
  },
  {
   "cell_type": "markdown",
   "metadata": {},
   "source": [
    "## Part 2: Supervised Learning Model\n",
    "\n",
    "Now that you've found which parts of the population are more likely to be customers of the mail-order company, it's time to build a prediction model. Each of the rows in the \"MAILOUT\" data files represents an individual that was targeted for a mailout campaign. Ideally, we should be able to use the demographic information from each individual to decide whether or not it will be worth it to include that person in the campaign.\n",
    "\n",
    "The \"MAILOUT\" data has been split into two approximately equal parts, each with almost 43 000 data rows. In this part, you can verify your model with the \"TRAIN\" partition, which includes a column, \"RESPONSE\", that states whether or not a person became a customer of the company following the campaign. In the next part, you'll need to create predictions on the \"TEST\" partition, where the \"RESPONSE\" column has been withheld."
   ]
  },
  {
   "cell_type": "code",
   "execution_count": 14,
   "metadata": {},
   "outputs": [],
   "source": [
    "mailout_train = pd.read_csv('./Udacity_MAILOUT_052018_TRAIN.csv', sep=';')"
   ]
  },
  {
   "cell_type": "code",
   "execution_count": 15,
   "metadata": {},
   "outputs": [
    {
     "data": {
      "text/html": [
       "<div>\n",
       "<style scoped>\n",
       "    .dataframe tbody tr th:only-of-type {\n",
       "        vertical-align: middle;\n",
       "    }\n",
       "\n",
       "    .dataframe tbody tr th {\n",
       "        vertical-align: top;\n",
       "    }\n",
       "\n",
       "    .dataframe thead th {\n",
       "        text-align: right;\n",
       "    }\n",
       "</style>\n",
       "<table border=\"1\" class=\"dataframe\">\n",
       "  <thead>\n",
       "    <tr style=\"text-align: right;\">\n",
       "      <th></th>\n",
       "      <th>LNR</th>\n",
       "      <th>AGER_TYP</th>\n",
       "      <th>AKT_DAT_KL</th>\n",
       "      <th>ALTER_HH</th>\n",
       "      <th>ALTER_KIND1</th>\n",
       "      <th>ALTER_KIND2</th>\n",
       "      <th>ALTER_KIND3</th>\n",
       "      <th>ALTER_KIND4</th>\n",
       "      <th>ALTERSKATEGORIE_FEIN</th>\n",
       "      <th>ANZ_HAUSHALTE_AKTIV</th>\n",
       "      <th>...</th>\n",
       "      <th>VK_DHT4A</th>\n",
       "      <th>VK_DISTANZ</th>\n",
       "      <th>VK_ZG11</th>\n",
       "      <th>W_KEIT_KIND_HH</th>\n",
       "      <th>WOHNDAUER_2008</th>\n",
       "      <th>WOHNLAGE</th>\n",
       "      <th>ZABEOTYP</th>\n",
       "      <th>RESPONSE</th>\n",
       "      <th>ANREDE_KZ</th>\n",
       "      <th>ALTERSKATEGORIE_GROB</th>\n",
       "    </tr>\n",
       "  </thead>\n",
       "  <tbody>\n",
       "    <tr>\n",
       "      <td>0</td>\n",
       "      <td>1763</td>\n",
       "      <td>2</td>\n",
       "      <td>1.0</td>\n",
       "      <td>8.0</td>\n",
       "      <td>NaN</td>\n",
       "      <td>NaN</td>\n",
       "      <td>NaN</td>\n",
       "      <td>NaN</td>\n",
       "      <td>8.0</td>\n",
       "      <td>15.0</td>\n",
       "      <td>...</td>\n",
       "      <td>5.0</td>\n",
       "      <td>2.0</td>\n",
       "      <td>1.0</td>\n",
       "      <td>6.0</td>\n",
       "      <td>9.0</td>\n",
       "      <td>3.0</td>\n",
       "      <td>3</td>\n",
       "      <td>0</td>\n",
       "      <td>2</td>\n",
       "      <td>4</td>\n",
       "    </tr>\n",
       "    <tr>\n",
       "      <td>1</td>\n",
       "      <td>1771</td>\n",
       "      <td>1</td>\n",
       "      <td>4.0</td>\n",
       "      <td>13.0</td>\n",
       "      <td>NaN</td>\n",
       "      <td>NaN</td>\n",
       "      <td>NaN</td>\n",
       "      <td>NaN</td>\n",
       "      <td>13.0</td>\n",
       "      <td>1.0</td>\n",
       "      <td>...</td>\n",
       "      <td>1.0</td>\n",
       "      <td>2.0</td>\n",
       "      <td>1.0</td>\n",
       "      <td>4.0</td>\n",
       "      <td>9.0</td>\n",
       "      <td>7.0</td>\n",
       "      <td>1</td>\n",
       "      <td>0</td>\n",
       "      <td>2</td>\n",
       "      <td>3</td>\n",
       "    </tr>\n",
       "    <tr>\n",
       "      <td>2</td>\n",
       "      <td>1776</td>\n",
       "      <td>1</td>\n",
       "      <td>1.0</td>\n",
       "      <td>9.0</td>\n",
       "      <td>NaN</td>\n",
       "      <td>NaN</td>\n",
       "      <td>NaN</td>\n",
       "      <td>NaN</td>\n",
       "      <td>7.0</td>\n",
       "      <td>0.0</td>\n",
       "      <td>...</td>\n",
       "      <td>6.0</td>\n",
       "      <td>4.0</td>\n",
       "      <td>2.0</td>\n",
       "      <td>NaN</td>\n",
       "      <td>9.0</td>\n",
       "      <td>2.0</td>\n",
       "      <td>3</td>\n",
       "      <td>0</td>\n",
       "      <td>1</td>\n",
       "      <td>4</td>\n",
       "    </tr>\n",
       "    <tr>\n",
       "      <td>3</td>\n",
       "      <td>1460</td>\n",
       "      <td>2</td>\n",
       "      <td>1.0</td>\n",
       "      <td>6.0</td>\n",
       "      <td>NaN</td>\n",
       "      <td>NaN</td>\n",
       "      <td>NaN</td>\n",
       "      <td>NaN</td>\n",
       "      <td>6.0</td>\n",
       "      <td>4.0</td>\n",
       "      <td>...</td>\n",
       "      <td>8.0</td>\n",
       "      <td>11.0</td>\n",
       "      <td>11.0</td>\n",
       "      <td>6.0</td>\n",
       "      <td>9.0</td>\n",
       "      <td>1.0</td>\n",
       "      <td>3</td>\n",
       "      <td>0</td>\n",
       "      <td>2</td>\n",
       "      <td>4</td>\n",
       "    </tr>\n",
       "    <tr>\n",
       "      <td>4</td>\n",
       "      <td>1783</td>\n",
       "      <td>2</td>\n",
       "      <td>1.0</td>\n",
       "      <td>9.0</td>\n",
       "      <td>NaN</td>\n",
       "      <td>NaN</td>\n",
       "      <td>NaN</td>\n",
       "      <td>NaN</td>\n",
       "      <td>9.0</td>\n",
       "      <td>53.0</td>\n",
       "      <td>...</td>\n",
       "      <td>2.0</td>\n",
       "      <td>2.0</td>\n",
       "      <td>1.0</td>\n",
       "      <td>6.0</td>\n",
       "      <td>9.0</td>\n",
       "      <td>3.0</td>\n",
       "      <td>3</td>\n",
       "      <td>0</td>\n",
       "      <td>1</td>\n",
       "      <td>3</td>\n",
       "    </tr>\n",
       "  </tbody>\n",
       "</table>\n",
       "<p>5 rows × 367 columns</p>\n",
       "</div>"
      ],
      "text/plain": [
       "    LNR  AGER_TYP  AKT_DAT_KL  ALTER_HH  ALTER_KIND1  ALTER_KIND2  \\\n",
       "0  1763         2         1.0       8.0          NaN          NaN   \n",
       "1  1771         1         4.0      13.0          NaN          NaN   \n",
       "2  1776         1         1.0       9.0          NaN          NaN   \n",
       "3  1460         2         1.0       6.0          NaN          NaN   \n",
       "4  1783         2         1.0       9.0          NaN          NaN   \n",
       "\n",
       "   ALTER_KIND3  ALTER_KIND4  ALTERSKATEGORIE_FEIN  ANZ_HAUSHALTE_AKTIV  ...  \\\n",
       "0          NaN          NaN                   8.0                 15.0  ...   \n",
       "1          NaN          NaN                  13.0                  1.0  ...   \n",
       "2          NaN          NaN                   7.0                  0.0  ...   \n",
       "3          NaN          NaN                   6.0                  4.0  ...   \n",
       "4          NaN          NaN                   9.0                 53.0  ...   \n",
       "\n",
       "   VK_DHT4A  VK_DISTANZ  VK_ZG11  W_KEIT_KIND_HH  WOHNDAUER_2008  WOHNLAGE  \\\n",
       "0       5.0         2.0      1.0             6.0             9.0       3.0   \n",
       "1       1.0         2.0      1.0             4.0             9.0       7.0   \n",
       "2       6.0         4.0      2.0             NaN             9.0       2.0   \n",
       "3       8.0        11.0     11.0             6.0             9.0       1.0   \n",
       "4       2.0         2.0      1.0             6.0             9.0       3.0   \n",
       "\n",
       "   ZABEOTYP RESPONSE ANREDE_KZ ALTERSKATEGORIE_GROB  \n",
       "0         3        0         2                    4  \n",
       "1         1        0         2                    3  \n",
       "2         3        0         1                    4  \n",
       "3         3        0         2                    4  \n",
       "4         3        0         1                    3  \n",
       "\n",
       "[5 rows x 367 columns]"
      ]
     },
     "execution_count": 15,
     "metadata": {},
     "output_type": "execute_result"
    }
   ],
   "source": [
    "mailout_train.head()"
   ]
  },
  {
   "cell_type": "code",
   "execution_count": 35,
   "metadata": {},
   "outputs": [
    {
     "data": {
      "text/plain": [
       "532"
      ]
     },
     "execution_count": 35,
     "metadata": {},
     "output_type": "execute_result"
    }
   ],
   "source": [
    "mailout_train['RESPONSE'].vlaues"
   ]
  },
  {
   "cell_type": "markdown",
   "metadata": {},
   "source": [
    "## Part 3: Kaggle Competition\n",
    "\n",
    "Now that you've created a model to predict which individuals are most likely to respond to a mailout campaign, it's time to test that model in competition through Kaggle. If you click on the link [here](http://www.kaggle.com/t/21e6d45d4c574c7fa2d868f0e8c83140), you'll be taken to the competition page where, if you have a Kaggle account, you can enter. If you're one of the top performers, you may have the chance to be contacted by a hiring manager from Arvato or Bertelsmann for an interview!\n",
    "\n",
    "Your entry to the competition should be a CSV file with two columns. The first column should be a copy of \"LNR\", which acts as an ID number for each individual in the \"TEST\" partition. The second column, \"RESPONSE\", should be some measure of how likely each individual became a customer – this might not be a straightforward probability. As you should have found in Part 2, there is a large output class imbalance, where most individuals did not respond to the mailout. Thus, predicting individual classes and using accuracy does not seem to be an appropriate performance evaluation method. Instead, the competition will be using AUC to evaluate performance. The exact values of the \"RESPONSE\" column do not matter as much: only that the higher values try to capture as many of the actual customers as possible, early in the ROC curve sweep."
   ]
  },
  {
   "cell_type": "code",
   "execution_count": 16,
   "metadata": {},
   "outputs": [],
   "source": [
    "mailout_test = pd.read_csv('./Udacity_MAILOUT_052018_TEST.csv', sep=';')"
   ]
  },
  {
   "cell_type": "code",
   "execution_count": 27,
   "metadata": {},
   "outputs": [
    {
     "name": "stdout",
     "output_type": "stream",
     "text": [
      "ANREDE_KZ\n"
     ]
    }
   ],
   "source": [
    "for i in range(0,mailout_train.columns.size):\n",
    "    if mailout_train.columns[i] not in mailout_test.columns:\n",
    "        print(mailout_test.columns[i])"
   ]
  },
  {
   "cell_type": "code",
   "execution_count": 29,
   "metadata": {},
   "outputs": [
    {
     "name": "stdout",
     "output_type": "stream",
     "text": [
      "(42962, 367)\n"
     ]
    }
   ],
   "source": [
    "print(mailout_train.shape)"
   ]
  },
  {
   "cell_type": "code",
   "execution_count": 30,
   "metadata": {},
   "outputs": [
    {
     "name": "stdout",
     "output_type": "stream",
     "text": [
      "(42833, 366)\n"
     ]
    }
   ],
   "source": [
    "print(mailout_test.shape)"
   ]
  },
  {
   "cell_type": "code",
   "execution_count": 31,
   "metadata": {},
   "outputs": [
    {
     "data": {
      "text/html": [
       "<div>\n",
       "<style scoped>\n",
       "    .dataframe tbody tr th:only-of-type {\n",
       "        vertical-align: middle;\n",
       "    }\n",
       "\n",
       "    .dataframe tbody tr th {\n",
       "        vertical-align: top;\n",
       "    }\n",
       "\n",
       "    .dataframe thead th {\n",
       "        text-align: right;\n",
       "    }\n",
       "</style>\n",
       "<table border=\"1\" class=\"dataframe\">\n",
       "  <thead>\n",
       "    <tr style=\"text-align: right;\">\n",
       "      <th></th>\n",
       "      <th>LNR</th>\n",
       "      <th>AGER_TYP</th>\n",
       "      <th>AKT_DAT_KL</th>\n",
       "      <th>ALTER_HH</th>\n",
       "      <th>ALTER_KIND1</th>\n",
       "      <th>ALTER_KIND2</th>\n",
       "      <th>ALTER_KIND3</th>\n",
       "      <th>ALTER_KIND4</th>\n",
       "      <th>ALTERSKATEGORIE_FEIN</th>\n",
       "      <th>ANZ_HAUSHALTE_AKTIV</th>\n",
       "      <th>...</th>\n",
       "      <th>VHN</th>\n",
       "      <th>VK_DHT4A</th>\n",
       "      <th>VK_DISTANZ</th>\n",
       "      <th>VK_ZG11</th>\n",
       "      <th>W_KEIT_KIND_HH</th>\n",
       "      <th>WOHNDAUER_2008</th>\n",
       "      <th>WOHNLAGE</th>\n",
       "      <th>ZABEOTYP</th>\n",
       "      <th>ANREDE_KZ</th>\n",
       "      <th>ALTERSKATEGORIE_GROB</th>\n",
       "    </tr>\n",
       "  </thead>\n",
       "  <tbody>\n",
       "    <tr>\n",
       "      <td>0</td>\n",
       "      <td>1754</td>\n",
       "      <td>2</td>\n",
       "      <td>1.0</td>\n",
       "      <td>7.0</td>\n",
       "      <td>NaN</td>\n",
       "      <td>NaN</td>\n",
       "      <td>NaN</td>\n",
       "      <td>NaN</td>\n",
       "      <td>6.0</td>\n",
       "      <td>2.0</td>\n",
       "      <td>...</td>\n",
       "      <td>4.0</td>\n",
       "      <td>5.0</td>\n",
       "      <td>6.0</td>\n",
       "      <td>3.0</td>\n",
       "      <td>6.0</td>\n",
       "      <td>9.0</td>\n",
       "      <td>3.0</td>\n",
       "      <td>3</td>\n",
       "      <td>1</td>\n",
       "      <td>4</td>\n",
       "    </tr>\n",
       "    <tr>\n",
       "      <td>1</td>\n",
       "      <td>1770</td>\n",
       "      <td>-1</td>\n",
       "      <td>1.0</td>\n",
       "      <td>0.0</td>\n",
       "      <td>NaN</td>\n",
       "      <td>NaN</td>\n",
       "      <td>NaN</td>\n",
       "      <td>NaN</td>\n",
       "      <td>0.0</td>\n",
       "      <td>20.0</td>\n",
       "      <td>...</td>\n",
       "      <td>1.0</td>\n",
       "      <td>5.0</td>\n",
       "      <td>2.0</td>\n",
       "      <td>1.0</td>\n",
       "      <td>6.0</td>\n",
       "      <td>9.0</td>\n",
       "      <td>5.0</td>\n",
       "      <td>3</td>\n",
       "      <td>1</td>\n",
       "      <td>4</td>\n",
       "    </tr>\n",
       "    <tr>\n",
       "      <td>2</td>\n",
       "      <td>1465</td>\n",
       "      <td>2</td>\n",
       "      <td>9.0</td>\n",
       "      <td>16.0</td>\n",
       "      <td>NaN</td>\n",
       "      <td>NaN</td>\n",
       "      <td>NaN</td>\n",
       "      <td>NaN</td>\n",
       "      <td>11.0</td>\n",
       "      <td>2.0</td>\n",
       "      <td>...</td>\n",
       "      <td>3.0</td>\n",
       "      <td>9.0</td>\n",
       "      <td>6.0</td>\n",
       "      <td>3.0</td>\n",
       "      <td>2.0</td>\n",
       "      <td>9.0</td>\n",
       "      <td>4.0</td>\n",
       "      <td>3</td>\n",
       "      <td>2</td>\n",
       "      <td>4</td>\n",
       "    </tr>\n",
       "    <tr>\n",
       "      <td>3</td>\n",
       "      <td>1470</td>\n",
       "      <td>-1</td>\n",
       "      <td>7.0</td>\n",
       "      <td>0.0</td>\n",
       "      <td>NaN</td>\n",
       "      <td>NaN</td>\n",
       "      <td>NaN</td>\n",
       "      <td>NaN</td>\n",
       "      <td>0.0</td>\n",
       "      <td>1.0</td>\n",
       "      <td>...</td>\n",
       "      <td>2.0</td>\n",
       "      <td>6.0</td>\n",
       "      <td>6.0</td>\n",
       "      <td>3.0</td>\n",
       "      <td>NaN</td>\n",
       "      <td>9.0</td>\n",
       "      <td>2.0</td>\n",
       "      <td>3</td>\n",
       "      <td>2</td>\n",
       "      <td>4</td>\n",
       "    </tr>\n",
       "    <tr>\n",
       "      <td>4</td>\n",
       "      <td>1478</td>\n",
       "      <td>1</td>\n",
       "      <td>1.0</td>\n",
       "      <td>21.0</td>\n",
       "      <td>NaN</td>\n",
       "      <td>NaN</td>\n",
       "      <td>NaN</td>\n",
       "      <td>NaN</td>\n",
       "      <td>13.0</td>\n",
       "      <td>1.0</td>\n",
       "      <td>...</td>\n",
       "      <td>1.0</td>\n",
       "      <td>2.0</td>\n",
       "      <td>4.0</td>\n",
       "      <td>3.0</td>\n",
       "      <td>3.0</td>\n",
       "      <td>9.0</td>\n",
       "      <td>7.0</td>\n",
       "      <td>4</td>\n",
       "      <td>2</td>\n",
       "      <td>4</td>\n",
       "    </tr>\n",
       "  </tbody>\n",
       "</table>\n",
       "<p>5 rows × 366 columns</p>\n",
       "</div>"
      ],
      "text/plain": [
       "    LNR  AGER_TYP  AKT_DAT_KL  ALTER_HH  ALTER_KIND1  ALTER_KIND2  \\\n",
       "0  1754         2         1.0       7.0          NaN          NaN   \n",
       "1  1770        -1         1.0       0.0          NaN          NaN   \n",
       "2  1465         2         9.0      16.0          NaN          NaN   \n",
       "3  1470        -1         7.0       0.0          NaN          NaN   \n",
       "4  1478         1         1.0      21.0          NaN          NaN   \n",
       "\n",
       "   ALTER_KIND3  ALTER_KIND4  ALTERSKATEGORIE_FEIN  ANZ_HAUSHALTE_AKTIV  ...  \\\n",
       "0          NaN          NaN                   6.0                  2.0  ...   \n",
       "1          NaN          NaN                   0.0                 20.0  ...   \n",
       "2          NaN          NaN                  11.0                  2.0  ...   \n",
       "3          NaN          NaN                   0.0                  1.0  ...   \n",
       "4          NaN          NaN                  13.0                  1.0  ...   \n",
       "\n",
       "   VHN  VK_DHT4A  VK_DISTANZ  VK_ZG11  W_KEIT_KIND_HH  WOHNDAUER_2008  \\\n",
       "0  4.0       5.0         6.0      3.0             6.0             9.0   \n",
       "1  1.0       5.0         2.0      1.0             6.0             9.0   \n",
       "2  3.0       9.0         6.0      3.0             2.0             9.0   \n",
       "3  2.0       6.0         6.0      3.0             NaN             9.0   \n",
       "4  1.0       2.0         4.0      3.0             3.0             9.0   \n",
       "\n",
       "   WOHNLAGE ZABEOTYP ANREDE_KZ ALTERSKATEGORIE_GROB  \n",
       "0       3.0        3         1                    4  \n",
       "1       5.0        3         1                    4  \n",
       "2       4.0        3         2                    4  \n",
       "3       2.0        3         2                    4  \n",
       "4       7.0        4         2                    4  \n",
       "\n",
       "[5 rows x 366 columns]"
      ]
     },
     "execution_count": 31,
     "metadata": {},
     "output_type": "execute_result"
    }
   ],
   "source": [
    "mailout_test.head()"
   ]
  }
 ],
 "metadata": {
  "kernelspec": {
   "display_name": "Python 3",
   "language": "python",
   "name": "python3"
  },
  "language_info": {
   "codemirror_mode": {
    "name": "ipython",
    "version": 3
   },
   "file_extension": ".py",
   "mimetype": "text/x-python",
   "name": "python",
   "nbconvert_exporter": "python",
   "pygments_lexer": "ipython3",
   "version": "3.7.4"
  }
 },
 "nbformat": 4,
 "nbformat_minor": 2
}
